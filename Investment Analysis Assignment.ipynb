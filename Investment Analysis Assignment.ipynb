{
 "cells": [
  {
   "cell_type": "markdown",
   "metadata": {},
   "source": [
    "# Investment Analysis Assignment\n",
    "\n",
    "### Project Brief\n",
    "\n",
    "Spark Funds (asset management company) wants to make investments in a few companies. The CEO of Spark Funds wants to understand the global trends in investments so that she can take the investment decisions effectively.\n",
    "\n",
    "#### Spark Funds has two minor constraints for investments:\n",
    "\n",
    "- It wants to invest between 5 to 15 million USD per round of investment\n",
    "\n",
    "- It wants to invest only in English-speaking countries because of the ease of communication with the companies it would invest in"
   ]
  },
  {
   "cell_type": "markdown",
   "metadata": {},
   "source": [
    "### Checkpoints - Part 1\n",
    "##### Checkpoint 1: Data Cleaning 1\n"
   ]
  },
  {
   "cell_type": "code",
   "execution_count": 1,
   "metadata": {},
   "outputs": [],
   "source": [
    "#Importing the required python liberaries\n",
    "import numpy as np\n",
    "import pandas as pd\n",
    "\n",
    "# Supress Warnings\n",
    "import warnings\n",
    "warnings.filterwarnings('ignore')"
   ]
  },
  {
   "cell_type": "code",
   "execution_count": 2,
   "metadata": {},
   "outputs": [],
   "source": [
    "# importing data from files to dataframes\n",
    "companies = pd.read_csv(\"./data/companies.csv\", encoding = \"ISO-8859-1\")\n",
    "rounds2 = pd.read_csv(\"./data/rounds2.csv\", encoding = \"ISO-8859-1\")"
   ]
  },
  {
   "cell_type": "code",
   "execution_count": 3,
   "metadata": {},
   "outputs": [
    {
     "data": {
      "text/html": [
       "<div>\n",
       "<style scoped>\n",
       "    .dataframe tbody tr th:only-of-type {\n",
       "        vertical-align: middle;\n",
       "    }\n",
       "\n",
       "    .dataframe tbody tr th {\n",
       "        vertical-align: top;\n",
       "    }\n",
       "\n",
       "    .dataframe thead th {\n",
       "        text-align: right;\n",
       "    }\n",
       "</style>\n",
       "<table border=\"1\" class=\"dataframe\">\n",
       "  <thead>\n",
       "    <tr style=\"text-align: right;\">\n",
       "      <th></th>\n",
       "      <th>permalink</th>\n",
       "      <th>name</th>\n",
       "      <th>homepage_url</th>\n",
       "      <th>category_list</th>\n",
       "      <th>status</th>\n",
       "      <th>country_code</th>\n",
       "      <th>state_code</th>\n",
       "      <th>region</th>\n",
       "      <th>city</th>\n",
       "      <th>founded_at</th>\n",
       "    </tr>\n",
       "  </thead>\n",
       "  <tbody>\n",
       "    <tr>\n",
       "      <th>0</th>\n",
       "      <td>/Organization/-Fame</td>\n",
       "      <td>#fame</td>\n",
       "      <td>http://livfame.com</td>\n",
       "      <td>Media</td>\n",
       "      <td>operating</td>\n",
       "      <td>IND</td>\n",
       "      <td>16</td>\n",
       "      <td>Mumbai</td>\n",
       "      <td>Mumbai</td>\n",
       "      <td>NaN</td>\n",
       "    </tr>\n",
       "    <tr>\n",
       "      <th>1</th>\n",
       "      <td>/Organization/-Qounter</td>\n",
       "      <td>:Qounter</td>\n",
       "      <td>http://www.qounter.com</td>\n",
       "      <td>Application Platforms|Real Time|Social Network...</td>\n",
       "      <td>operating</td>\n",
       "      <td>USA</td>\n",
       "      <td>DE</td>\n",
       "      <td>DE - Other</td>\n",
       "      <td>Delaware City</td>\n",
       "      <td>04-09-2014</td>\n",
       "    </tr>\n",
       "    <tr>\n",
       "      <th>2</th>\n",
       "      <td>/Organization/-The-One-Of-Them-Inc-</td>\n",
       "      <td>(THE) ONE of THEM,Inc.</td>\n",
       "      <td>http://oneofthem.jp</td>\n",
       "      <td>Apps|Games|Mobile</td>\n",
       "      <td>operating</td>\n",
       "      <td>NaN</td>\n",
       "      <td>NaN</td>\n",
       "      <td>NaN</td>\n",
       "      <td>NaN</td>\n",
       "      <td>NaN</td>\n",
       "    </tr>\n",
       "    <tr>\n",
       "      <th>3</th>\n",
       "      <td>/Organization/0-6-Com</td>\n",
       "      <td>0-6.com</td>\n",
       "      <td>http://www.0-6.com</td>\n",
       "      <td>Curated Web</td>\n",
       "      <td>operating</td>\n",
       "      <td>CHN</td>\n",
       "      <td>22</td>\n",
       "      <td>Beijing</td>\n",
       "      <td>Beijing</td>\n",
       "      <td>01-01-2007</td>\n",
       "    </tr>\n",
       "    <tr>\n",
       "      <th>4</th>\n",
       "      <td>/Organization/004-Technologies</td>\n",
       "      <td>004 Technologies</td>\n",
       "      <td>http://004gmbh.de/en/004-interact</td>\n",
       "      <td>Software</td>\n",
       "      <td>operating</td>\n",
       "      <td>USA</td>\n",
       "      <td>IL</td>\n",
       "      <td>Springfield, Illinois</td>\n",
       "      <td>Champaign</td>\n",
       "      <td>01-01-2010</td>\n",
       "    </tr>\n",
       "  </tbody>\n",
       "</table>\n",
       "</div>"
      ],
      "text/plain": [
       "                             permalink                    name  \\\n",
       "0                  /Organization/-Fame                   #fame   \n",
       "1               /Organization/-Qounter                :Qounter   \n",
       "2  /Organization/-The-One-Of-Them-Inc-  (THE) ONE of THEM,Inc.   \n",
       "3                /Organization/0-6-Com                 0-6.com   \n",
       "4       /Organization/004-Technologies        004 Technologies   \n",
       "\n",
       "                        homepage_url  \\\n",
       "0                 http://livfame.com   \n",
       "1             http://www.qounter.com   \n",
       "2                http://oneofthem.jp   \n",
       "3                 http://www.0-6.com   \n",
       "4  http://004gmbh.de/en/004-interact   \n",
       "\n",
       "                                       category_list     status country_code  \\\n",
       "0                                              Media  operating          IND   \n",
       "1  Application Platforms|Real Time|Social Network...  operating          USA   \n",
       "2                                  Apps|Games|Mobile  operating          NaN   \n",
       "3                                        Curated Web  operating          CHN   \n",
       "4                                           Software  operating          USA   \n",
       "\n",
       "  state_code                 region           city  founded_at  \n",
       "0         16                 Mumbai         Mumbai         NaN  \n",
       "1         DE             DE - Other  Delaware City  04-09-2014  \n",
       "2        NaN                    NaN            NaN         NaN  \n",
       "3         22                Beijing        Beijing  01-01-2007  \n",
       "4         IL  Springfield, Illinois      Champaign  01-01-2010  "
      ]
     },
     "execution_count": 3,
     "metadata": {},
     "output_type": "execute_result"
    }
   ],
   "source": [
    "# Exploring data\n",
    "companies.head()"
   ]
  },
  {
   "cell_type": "code",
   "execution_count": 4,
   "metadata": {},
   "outputs": [
    {
     "name": "stdout",
     "output_type": "stream",
     "text": [
      "<class 'pandas.core.frame.DataFrame'>\n",
      "RangeIndex: 66368 entries, 0 to 66367\n",
      "Data columns (total 10 columns):\n",
      " #   Column         Non-Null Count  Dtype \n",
      "---  ------         --------------  ----- \n",
      " 0   permalink      66368 non-null  object\n",
      " 1   name           66367 non-null  object\n",
      " 2   homepage_url   61310 non-null  object\n",
      " 3   category_list  63220 non-null  object\n",
      " 4   status         66368 non-null  object\n",
      " 5   country_code   59410 non-null  object\n",
      " 6   state_code     57821 non-null  object\n",
      " 7   region         58338 non-null  object\n",
      " 8   city           58340 non-null  object\n",
      " 9   founded_at     51147 non-null  object\n",
      "dtypes: object(10)\n",
      "memory usage: 5.1+ MB\n"
     ]
    }
   ],
   "source": [
    "companies.info()"
   ]
  },
  {
   "cell_type": "code",
   "execution_count": 5,
   "metadata": {},
   "outputs": [
    {
     "data": {
      "text/html": [
       "<div>\n",
       "<style scoped>\n",
       "    .dataframe tbody tr th:only-of-type {\n",
       "        vertical-align: middle;\n",
       "    }\n",
       "\n",
       "    .dataframe tbody tr th {\n",
       "        vertical-align: top;\n",
       "    }\n",
       "\n",
       "    .dataframe thead th {\n",
       "        text-align: right;\n",
       "    }\n",
       "</style>\n",
       "<table border=\"1\" class=\"dataframe\">\n",
       "  <thead>\n",
       "    <tr style=\"text-align: right;\">\n",
       "      <th></th>\n",
       "      <th>permalink</th>\n",
       "      <th>name</th>\n",
       "      <th>homepage_url</th>\n",
       "      <th>category_list</th>\n",
       "      <th>status</th>\n",
       "      <th>country_code</th>\n",
       "      <th>state_code</th>\n",
       "      <th>region</th>\n",
       "      <th>city</th>\n",
       "      <th>founded_at</th>\n",
       "    </tr>\n",
       "  </thead>\n",
       "  <tbody>\n",
       "    <tr>\n",
       "      <th>count</th>\n",
       "      <td>66368</td>\n",
       "      <td>66367</td>\n",
       "      <td>61310</td>\n",
       "      <td>63220</td>\n",
       "      <td>66368</td>\n",
       "      <td>59410</td>\n",
       "      <td>57821</td>\n",
       "      <td>58338</td>\n",
       "      <td>58340</td>\n",
       "      <td>51147</td>\n",
       "    </tr>\n",
       "    <tr>\n",
       "      <th>unique</th>\n",
       "      <td>66368</td>\n",
       "      <td>66099</td>\n",
       "      <td>61191</td>\n",
       "      <td>27296</td>\n",
       "      <td>4</td>\n",
       "      <td>137</td>\n",
       "      <td>311</td>\n",
       "      <td>1092</td>\n",
       "      <td>5111</td>\n",
       "      <td>3978</td>\n",
       "    </tr>\n",
       "    <tr>\n",
       "      <th>top</th>\n",
       "      <td>/Organization/Yospace-Technologies</td>\n",
       "      <td>#NAME?</td>\n",
       "      <td>http://www.askforoffer.com</td>\n",
       "      <td>Software</td>\n",
       "      <td>operating</td>\n",
       "      <td>USA</td>\n",
       "      <td>CA</td>\n",
       "      <td>SF Bay Area</td>\n",
       "      <td>San Francisco</td>\n",
       "      <td>01-01-2012</td>\n",
       "    </tr>\n",
       "    <tr>\n",
       "      <th>freq</th>\n",
       "      <td>1</td>\n",
       "      <td>4</td>\n",
       "      <td>5</td>\n",
       "      <td>3995</td>\n",
       "      <td>53034</td>\n",
       "      <td>37601</td>\n",
       "      <td>12900</td>\n",
       "      <td>8804</td>\n",
       "      <td>3526</td>\n",
       "      <td>2730</td>\n",
       "    </tr>\n",
       "  </tbody>\n",
       "</table>\n",
       "</div>"
      ],
      "text/plain": [
       "                                 permalink    name  \\\n",
       "count                                66368   66367   \n",
       "unique                               66368   66099   \n",
       "top     /Organization/Yospace-Technologies  #NAME?   \n",
       "freq                                     1       4   \n",
       "\n",
       "                      homepage_url category_list     status country_code  \\\n",
       "count                        61310         63220      66368        59410   \n",
       "unique                       61191         27296          4          137   \n",
       "top     http://www.askforoffer.com      Software  operating          USA   \n",
       "freq                             5          3995      53034        37601   \n",
       "\n",
       "       state_code       region           city  founded_at  \n",
       "count       57821        58338          58340       51147  \n",
       "unique        311         1092           5111        3978  \n",
       "top            CA  SF Bay Area  San Francisco  01-01-2012  \n",
       "freq        12900         8804           3526        2730  "
      ]
     },
     "execution_count": 5,
     "metadata": {},
     "output_type": "execute_result"
    }
   ],
   "source": [
    "companies.describe()"
   ]
  },
  {
   "cell_type": "code",
   "execution_count": 6,
   "metadata": {
    "scrolled": true
   },
   "outputs": [
    {
     "data": {
      "text/html": [
       "<div>\n",
       "<style scoped>\n",
       "    .dataframe tbody tr th:only-of-type {\n",
       "        vertical-align: middle;\n",
       "    }\n",
       "\n",
       "    .dataframe tbody tr th {\n",
       "        vertical-align: top;\n",
       "    }\n",
       "\n",
       "    .dataframe thead th {\n",
       "        text-align: right;\n",
       "    }\n",
       "</style>\n",
       "<table border=\"1\" class=\"dataframe\">\n",
       "  <thead>\n",
       "    <tr style=\"text-align: right;\">\n",
       "      <th></th>\n",
       "      <th>company_permalink</th>\n",
       "      <th>funding_round_permalink</th>\n",
       "      <th>funding_round_type</th>\n",
       "      <th>funding_round_code</th>\n",
       "      <th>funded_at</th>\n",
       "      <th>raised_amount_usd</th>\n",
       "    </tr>\n",
       "  </thead>\n",
       "  <tbody>\n",
       "    <tr>\n",
       "      <th>0</th>\n",
       "      <td>/organization/-fame</td>\n",
       "      <td>/funding-round/9a01d05418af9f794eebff7ace91f638</td>\n",
       "      <td>venture</td>\n",
       "      <td>B</td>\n",
       "      <td>05-01-2015</td>\n",
       "      <td>10000000.0</td>\n",
       "    </tr>\n",
       "    <tr>\n",
       "      <th>1</th>\n",
       "      <td>/ORGANIZATION/-QOUNTER</td>\n",
       "      <td>/funding-round/22dacff496eb7acb2b901dec1dfe5633</td>\n",
       "      <td>venture</td>\n",
       "      <td>A</td>\n",
       "      <td>14-10-2014</td>\n",
       "      <td>NaN</td>\n",
       "    </tr>\n",
       "    <tr>\n",
       "      <th>2</th>\n",
       "      <td>/organization/-qounter</td>\n",
       "      <td>/funding-round/b44fbb94153f6cdef13083530bb48030</td>\n",
       "      <td>seed</td>\n",
       "      <td>NaN</td>\n",
       "      <td>01-03-2014</td>\n",
       "      <td>700000.0</td>\n",
       "    </tr>\n",
       "    <tr>\n",
       "      <th>3</th>\n",
       "      <td>/ORGANIZATION/-THE-ONE-OF-THEM-INC-</td>\n",
       "      <td>/funding-round/650b8f704416801069bb178a1418776b</td>\n",
       "      <td>venture</td>\n",
       "      <td>B</td>\n",
       "      <td>30-01-2014</td>\n",
       "      <td>3406878.0</td>\n",
       "    </tr>\n",
       "    <tr>\n",
       "      <th>4</th>\n",
       "      <td>/organization/0-6-com</td>\n",
       "      <td>/funding-round/5727accaeaa57461bd22a9bdd945382d</td>\n",
       "      <td>venture</td>\n",
       "      <td>A</td>\n",
       "      <td>19-03-2008</td>\n",
       "      <td>2000000.0</td>\n",
       "    </tr>\n",
       "  </tbody>\n",
       "</table>\n",
       "</div>"
      ],
      "text/plain": [
       "                     company_permalink  \\\n",
       "0                  /organization/-fame   \n",
       "1               /ORGANIZATION/-QOUNTER   \n",
       "2               /organization/-qounter   \n",
       "3  /ORGANIZATION/-THE-ONE-OF-THEM-INC-   \n",
       "4                /organization/0-6-com   \n",
       "\n",
       "                           funding_round_permalink funding_round_type  \\\n",
       "0  /funding-round/9a01d05418af9f794eebff7ace91f638            venture   \n",
       "1  /funding-round/22dacff496eb7acb2b901dec1dfe5633            venture   \n",
       "2  /funding-round/b44fbb94153f6cdef13083530bb48030               seed   \n",
       "3  /funding-round/650b8f704416801069bb178a1418776b            venture   \n",
       "4  /funding-round/5727accaeaa57461bd22a9bdd945382d            venture   \n",
       "\n",
       "  funding_round_code   funded_at  raised_amount_usd  \n",
       "0                  B  05-01-2015         10000000.0  \n",
       "1                  A  14-10-2014                NaN  \n",
       "2                NaN  01-03-2014           700000.0  \n",
       "3                  B  30-01-2014          3406878.0  \n",
       "4                  A  19-03-2008          2000000.0  "
      ]
     },
     "execution_count": 6,
     "metadata": {},
     "output_type": "execute_result"
    }
   ],
   "source": [
    "rounds2.head()"
   ]
  },
  {
   "cell_type": "code",
   "execution_count": 7,
   "metadata": {
    "scrolled": true
   },
   "outputs": [
    {
     "name": "stdout",
     "output_type": "stream",
     "text": [
      "<class 'pandas.core.frame.DataFrame'>\n",
      "RangeIndex: 114949 entries, 0 to 114948\n",
      "Data columns (total 6 columns):\n",
      " #   Column                   Non-Null Count   Dtype  \n",
      "---  ------                   --------------   -----  \n",
      " 0   company_permalink        114949 non-null  object \n",
      " 1   funding_round_permalink  114949 non-null  object \n",
      " 2   funding_round_type       114949 non-null  object \n",
      " 3   funding_round_code       31140 non-null   object \n",
      " 4   funded_at                114949 non-null  object \n",
      " 5   raised_amount_usd        94959 non-null   float64\n",
      "dtypes: float64(1), object(5)\n",
      "memory usage: 5.3+ MB\n"
     ]
    }
   ],
   "source": [
    "rounds2.info()"
   ]
  },
  {
   "cell_type": "code",
   "execution_count": 8,
   "metadata": {
    "scrolled": false
   },
   "outputs": [
    {
     "data": {
      "text/html": [
       "<div>\n",
       "<style scoped>\n",
       "    .dataframe tbody tr th:only-of-type {\n",
       "        vertical-align: middle;\n",
       "    }\n",
       "\n",
       "    .dataframe tbody tr th {\n",
       "        vertical-align: top;\n",
       "    }\n",
       "\n",
       "    .dataframe thead th {\n",
       "        text-align: right;\n",
       "    }\n",
       "</style>\n",
       "<table border=\"1\" class=\"dataframe\">\n",
       "  <thead>\n",
       "    <tr style=\"text-align: right;\">\n",
       "      <th></th>\n",
       "      <th>raised_amount_usd</th>\n",
       "    </tr>\n",
       "  </thead>\n",
       "  <tbody>\n",
       "    <tr>\n",
       "      <th>count</th>\n",
       "      <td>9.495900e+04</td>\n",
       "    </tr>\n",
       "    <tr>\n",
       "      <th>mean</th>\n",
       "      <td>1.042687e+07</td>\n",
       "    </tr>\n",
       "    <tr>\n",
       "      <th>std</th>\n",
       "      <td>1.148212e+08</td>\n",
       "    </tr>\n",
       "    <tr>\n",
       "      <th>min</th>\n",
       "      <td>0.000000e+00</td>\n",
       "    </tr>\n",
       "    <tr>\n",
       "      <th>25%</th>\n",
       "      <td>3.225000e+05</td>\n",
       "    </tr>\n",
       "    <tr>\n",
       "      <th>50%</th>\n",
       "      <td>1.680511e+06</td>\n",
       "    </tr>\n",
       "    <tr>\n",
       "      <th>75%</th>\n",
       "      <td>7.000000e+06</td>\n",
       "    </tr>\n",
       "    <tr>\n",
       "      <th>max</th>\n",
       "      <td>2.127194e+10</td>\n",
       "    </tr>\n",
       "  </tbody>\n",
       "</table>\n",
       "</div>"
      ],
      "text/plain": [
       "       raised_amount_usd\n",
       "count       9.495900e+04\n",
       "mean        1.042687e+07\n",
       "std         1.148212e+08\n",
       "min         0.000000e+00\n",
       "25%         3.225000e+05\n",
       "50%         1.680511e+06\n",
       "75%         7.000000e+06\n",
       "max         2.127194e+10"
      ]
     },
     "execution_count": 8,
     "metadata": {},
     "output_type": "execute_result"
    }
   ],
   "source": [
    "rounds2.describe()"
   ]
  },
  {
   "cell_type": "markdown",
   "metadata": {},
   "source": [
    "##### Table 1.1: Understand the Data Set \n",
    "- How many unique companies are present in rounds2?\t\n",
    "- How many unique companies are present in companies?\t\n",
    "- In the companies data frame, which column can be used as the unique key for each company? Write the name of the column.\t\n",
    "- Are there any companies in the rounds2 file which are not present in companies? Answer yes or no: Y/N\t\n",
    "- Merge the two data frames so that all variables (columns) in the companies frame are added to the rounds2 data frame. Name the merged frame master_frame. How many observations are present in master_frame?\n"
   ]
  },
  {
   "cell_type": "code",
   "execution_count": 9,
   "metadata": {},
   "outputs": [
    {
     "name": "stdout",
     "output_type": "stream",
     "text": [
      "90247\n"
     ]
    }
   ],
   "source": [
    "# unique companies are present in rounds2\n",
    "print(len(rounds2.company_permalink.unique()))"
   ]
  },
  {
   "cell_type": "code",
   "execution_count": 10,
   "metadata": {},
   "outputs": [
    {
     "name": "stdout",
     "output_type": "stream",
     "text": [
      "66368\n"
     ]
    }
   ],
   "source": [
    "# unique companies are present in companies by permalink\n",
    "print(len(companies.permalink.unique()))"
   ]
  },
  {
   "cell_type": "code",
   "execution_count": 11,
   "metadata": {},
   "outputs": [
    {
     "name": "stdout",
     "output_type": "stream",
     "text": [
      "66100\n"
     ]
    }
   ],
   "source": [
    "# unique companies are present in companies by name\n",
    "print(len(companies.name.unique()))"
   ]
  },
  {
   "cell_type": "markdown",
   "metadata": {},
   "source": [
    "There are Some Irregularites in data because of Case Sensitivity in rounds2 of String So to fix them "
   ]
  },
  {
   "cell_type": "code",
   "execution_count": 12,
   "metadata": {},
   "outputs": [
    {
     "name": "stdout",
     "output_type": "stream",
     "text": [
      "66370\n"
     ]
    }
   ],
   "source": [
    "print(len(rounds2.company_permalink.str.upper().unique()))"
   ]
  },
  {
   "cell_type": "markdown",
   "metadata": {},
   "source": [
    "column can be used as the unique key for each company in companies data frame is `permalink`"
   ]
  },
  {
   "cell_type": "code",
   "execution_count": 13,
   "metadata": {},
   "outputs": [
    {
     "name": "stdout",
     "output_type": "stream",
     "text": [
      "2\n"
     ]
    }
   ],
   "source": [
    "# Number of company persent in round2 but not in companies dataframe \n",
    "print(len(rounds2.company_permalink.str.upper().unique()) - len(companies.permalink.unique()))"
   ]
  },
  {
   "cell_type": "code",
   "execution_count": 14,
   "metadata": {},
   "outputs": [
    {
     "name": "stdout",
     "output_type": "stream",
     "text": [
      "66368\n",
      "66370\n"
     ]
    }
   ],
   "source": [
    "# Removing irregularities because of case-sensitivity\n",
    "companies['permalink'] = companies['permalink'].str.upper()\n",
    "# create a key for joining of two dataframes as well \n",
    "rounds2['permalink'] = rounds2['company_permalink'].str.upper()\n",
    "print(len(companies.permalink.unique()))\n",
    "print(len(rounds2.permalink.unique()))"
   ]
  },
  {
   "cell_type": "code",
   "execution_count": 15,
   "metadata": {},
   "outputs": [
    {
     "data": {
      "text/html": [
       "<div>\n",
       "<style scoped>\n",
       "    .dataframe tbody tr th:only-of-type {\n",
       "        vertical-align: middle;\n",
       "    }\n",
       "\n",
       "    .dataframe tbody tr th {\n",
       "        vertical-align: top;\n",
       "    }\n",
       "\n",
       "    .dataframe thead th {\n",
       "        text-align: right;\n",
       "    }\n",
       "</style>\n",
       "<table border=\"1\" class=\"dataframe\">\n",
       "  <thead>\n",
       "    <tr style=\"text-align: right;\">\n",
       "      <th></th>\n",
       "      <th>permalink</th>\n",
       "      <th>name</th>\n",
       "      <th>homepage_url</th>\n",
       "      <th>category_list</th>\n",
       "      <th>status</th>\n",
       "      <th>country_code</th>\n",
       "      <th>state_code</th>\n",
       "      <th>region</th>\n",
       "      <th>city</th>\n",
       "      <th>founded_at</th>\n",
       "      <th>company_permalink</th>\n",
       "      <th>funding_round_permalink</th>\n",
       "      <th>funding_round_type</th>\n",
       "      <th>funding_round_code</th>\n",
       "      <th>funded_at</th>\n",
       "      <th>raised_amount_usd</th>\n",
       "    </tr>\n",
       "  </thead>\n",
       "  <tbody>\n",
       "    <tr>\n",
       "      <th>0</th>\n",
       "      <td>/ORGANIZATION/-FAME</td>\n",
       "      <td>#fame</td>\n",
       "      <td>http://livfame.com</td>\n",
       "      <td>Media</td>\n",
       "      <td>operating</td>\n",
       "      <td>IND</td>\n",
       "      <td>16</td>\n",
       "      <td>Mumbai</td>\n",
       "      <td>Mumbai</td>\n",
       "      <td>NaN</td>\n",
       "      <td>/organization/-fame</td>\n",
       "      <td>/funding-round/9a01d05418af9f794eebff7ace91f638</td>\n",
       "      <td>venture</td>\n",
       "      <td>B</td>\n",
       "      <td>05-01-2015</td>\n",
       "      <td>10000000.0</td>\n",
       "    </tr>\n",
       "    <tr>\n",
       "      <th>1</th>\n",
       "      <td>/ORGANIZATION/-QOUNTER</td>\n",
       "      <td>:Qounter</td>\n",
       "      <td>http://www.qounter.com</td>\n",
       "      <td>Application Platforms|Real Time|Social Network...</td>\n",
       "      <td>operating</td>\n",
       "      <td>USA</td>\n",
       "      <td>DE</td>\n",
       "      <td>DE - Other</td>\n",
       "      <td>Delaware City</td>\n",
       "      <td>04-09-2014</td>\n",
       "      <td>/ORGANIZATION/-QOUNTER</td>\n",
       "      <td>/funding-round/22dacff496eb7acb2b901dec1dfe5633</td>\n",
       "      <td>venture</td>\n",
       "      <td>A</td>\n",
       "      <td>14-10-2014</td>\n",
       "      <td>NaN</td>\n",
       "    </tr>\n",
       "    <tr>\n",
       "      <th>2</th>\n",
       "      <td>/ORGANIZATION/-QOUNTER</td>\n",
       "      <td>:Qounter</td>\n",
       "      <td>http://www.qounter.com</td>\n",
       "      <td>Application Platforms|Real Time|Social Network...</td>\n",
       "      <td>operating</td>\n",
       "      <td>USA</td>\n",
       "      <td>DE</td>\n",
       "      <td>DE - Other</td>\n",
       "      <td>Delaware City</td>\n",
       "      <td>04-09-2014</td>\n",
       "      <td>/organization/-qounter</td>\n",
       "      <td>/funding-round/b44fbb94153f6cdef13083530bb48030</td>\n",
       "      <td>seed</td>\n",
       "      <td>NaN</td>\n",
       "      <td>01-03-2014</td>\n",
       "      <td>700000.0</td>\n",
       "    </tr>\n",
       "    <tr>\n",
       "      <th>3</th>\n",
       "      <td>/ORGANIZATION/-THE-ONE-OF-THEM-INC-</td>\n",
       "      <td>(THE) ONE of THEM,Inc.</td>\n",
       "      <td>http://oneofthem.jp</td>\n",
       "      <td>Apps|Games|Mobile</td>\n",
       "      <td>operating</td>\n",
       "      <td>NaN</td>\n",
       "      <td>NaN</td>\n",
       "      <td>NaN</td>\n",
       "      <td>NaN</td>\n",
       "      <td>NaN</td>\n",
       "      <td>/ORGANIZATION/-THE-ONE-OF-THEM-INC-</td>\n",
       "      <td>/funding-round/650b8f704416801069bb178a1418776b</td>\n",
       "      <td>venture</td>\n",
       "      <td>B</td>\n",
       "      <td>30-01-2014</td>\n",
       "      <td>3406878.0</td>\n",
       "    </tr>\n",
       "    <tr>\n",
       "      <th>4</th>\n",
       "      <td>/ORGANIZATION/0-6-COM</td>\n",
       "      <td>0-6.com</td>\n",
       "      <td>http://www.0-6.com</td>\n",
       "      <td>Curated Web</td>\n",
       "      <td>operating</td>\n",
       "      <td>CHN</td>\n",
       "      <td>22</td>\n",
       "      <td>Beijing</td>\n",
       "      <td>Beijing</td>\n",
       "      <td>01-01-2007</td>\n",
       "      <td>/organization/0-6-com</td>\n",
       "      <td>/funding-round/5727accaeaa57461bd22a9bdd945382d</td>\n",
       "      <td>venture</td>\n",
       "      <td>A</td>\n",
       "      <td>19-03-2008</td>\n",
       "      <td>2000000.0</td>\n",
       "    </tr>\n",
       "  </tbody>\n",
       "</table>\n",
       "</div>"
      ],
      "text/plain": [
       "                             permalink                    name  \\\n",
       "0                  /ORGANIZATION/-FAME                   #fame   \n",
       "1               /ORGANIZATION/-QOUNTER                :Qounter   \n",
       "2               /ORGANIZATION/-QOUNTER                :Qounter   \n",
       "3  /ORGANIZATION/-THE-ONE-OF-THEM-INC-  (THE) ONE of THEM,Inc.   \n",
       "4                /ORGANIZATION/0-6-COM                 0-6.com   \n",
       "\n",
       "             homepage_url                                      category_list  \\\n",
       "0      http://livfame.com                                              Media   \n",
       "1  http://www.qounter.com  Application Platforms|Real Time|Social Network...   \n",
       "2  http://www.qounter.com  Application Platforms|Real Time|Social Network...   \n",
       "3     http://oneofthem.jp                                  Apps|Games|Mobile   \n",
       "4      http://www.0-6.com                                        Curated Web   \n",
       "\n",
       "      status country_code state_code      region           city  founded_at  \\\n",
       "0  operating          IND         16      Mumbai         Mumbai         NaN   \n",
       "1  operating          USA         DE  DE - Other  Delaware City  04-09-2014   \n",
       "2  operating          USA         DE  DE - Other  Delaware City  04-09-2014   \n",
       "3  operating          NaN        NaN         NaN            NaN         NaN   \n",
       "4  operating          CHN         22     Beijing        Beijing  01-01-2007   \n",
       "\n",
       "                     company_permalink  \\\n",
       "0                  /organization/-fame   \n",
       "1               /ORGANIZATION/-QOUNTER   \n",
       "2               /organization/-qounter   \n",
       "3  /ORGANIZATION/-THE-ONE-OF-THEM-INC-   \n",
       "4                /organization/0-6-com   \n",
       "\n",
       "                           funding_round_permalink funding_round_type  \\\n",
       "0  /funding-round/9a01d05418af9f794eebff7ace91f638            venture   \n",
       "1  /funding-round/22dacff496eb7acb2b901dec1dfe5633            venture   \n",
       "2  /funding-round/b44fbb94153f6cdef13083530bb48030               seed   \n",
       "3  /funding-round/650b8f704416801069bb178a1418776b            venture   \n",
       "4  /funding-round/5727accaeaa57461bd22a9bdd945382d            venture   \n",
       "\n",
       "  funding_round_code   funded_at  raised_amount_usd  \n",
       "0                  B  05-01-2015         10000000.0  \n",
       "1                  A  14-10-2014                NaN  \n",
       "2                NaN  01-03-2014           700000.0  \n",
       "3                  B  30-01-2014          3406878.0  \n",
       "4                  A  19-03-2008          2000000.0  "
      ]
     },
     "execution_count": 15,
     "metadata": {},
     "output_type": "execute_result"
    }
   ],
   "source": [
    "# merging two data Frames\n",
    "\n",
    "master_frame = pd.merge(companies,rounds2, how='inner', on='permalink')\n",
    "master_frame.head()"
   ]
  },
  {
   "cell_type": "code",
   "execution_count": 16,
   "metadata": {},
   "outputs": [
    {
     "data": {
      "text/plain": [
       "114942"
      ]
     },
     "execution_count": 16,
     "metadata": {},
     "output_type": "execute_result"
    }
   ],
   "source": [
    "len(master_frame)"
   ]
  },
  {
   "cell_type": "code",
   "execution_count": 17,
   "metadata": {},
   "outputs": [
    {
     "name": "stdout",
     "output_type": "stream",
     "text": [
      "<class 'pandas.core.frame.DataFrame'>\n",
      "Int64Index: 114942 entries, 0 to 114941\n",
      "Data columns (total 16 columns):\n",
      " #   Column                   Non-Null Count   Dtype  \n",
      "---  ------                   --------------   -----  \n",
      " 0   permalink                114942 non-null  object \n",
      " 1   name                     114941 non-null  object \n",
      " 2   homepage_url             108810 non-null  object \n",
      " 3   category_list            111535 non-null  object \n",
      " 4   status                   114942 non-null  object \n",
      " 5   country_code             106271 non-null  object \n",
      " 6   state_code               104003 non-null  object \n",
      " 7   region                   104782 non-null  object \n",
      " 8   city                     104785 non-null  object \n",
      " 9   founded_at               94422 non-null   object \n",
      " 10  company_permalink        114942 non-null  object \n",
      " 11  funding_round_permalink  114942 non-null  object \n",
      " 12  funding_round_type       114942 non-null  object \n",
      " 13  funding_round_code       31139 non-null   object \n",
      " 14  funded_at                114942 non-null  object \n",
      " 15  raised_amount_usd        94958 non-null   float64\n",
      "dtypes: float64(1), object(15)\n",
      "memory usage: 14.9+ MB\n"
     ]
    }
   ],
   "source": [
    "master_frame.info()"
   ]
  },
  {
   "cell_type": "markdown",
   "metadata": {},
   "source": [
    "* How many unique companies are present in rounds2? `66370`\n",
    "* How many unique companies are present in companies? `66368`\n",
    "* In the companies data frame, which column can be used as the unique key for each company? Write the name of the column. `permalink`\n",
    "* Are there any companies in the rounds2 file which are not present in companies? Answer yes or no: Y/N `Y`\n",
    "* Merge the two data frames so that all variables (columns) in the companies frame are added to the rounds2 data frame. Name the merged frame master_frame. How many observations are present in master_frame? `114942`"
   ]
  },
  {
   "cell_type": "markdown",
   "metadata": {},
   "source": [
    " #### Data Cleaning "
   ]
  },
  {
   "cell_type": "code",
   "execution_count": 18,
   "metadata": {
    "scrolled": true
   },
   "outputs": [
    {
     "data": {
      "text/plain": [
       "permalink                   0.00\n",
       "name                        0.00\n",
       "homepage_url                5.33\n",
       "category_list               2.96\n",
       "status                      0.00\n",
       "country_code                7.54\n",
       "state_code                  9.52\n",
       "region                      8.84\n",
       "city                        8.84\n",
       "founded_at                 17.85\n",
       "company_permalink           0.00\n",
       "funding_round_permalink     0.00\n",
       "funding_round_type          0.00\n",
       "funding_round_code         72.91\n",
       "funded_at                   0.00\n",
       "raised_amount_usd          17.39\n",
       "dtype: float64"
      ]
     },
     "execution_count": 18,
     "metadata": {},
     "output_type": "execute_result"
    }
   ],
   "source": [
    "round(100*(master_frame.isnull().sum()/len(master_frame)), 2)"
   ]
  },
  {
   "cell_type": "code",
   "execution_count": 19,
   "metadata": {},
   "outputs": [
    {
     "data": {
      "text/plain": [
       "permalink                   0.00\n",
       "name                        0.00\n",
       "category_list               2.96\n",
       "status                      0.00\n",
       "country_code                7.54\n",
       "funding_round_permalink     0.00\n",
       "funding_round_type          0.00\n",
       "funded_at                   0.00\n",
       "raised_amount_usd          17.39\n",
       "dtype: float64"
      ]
     },
     "execution_count": 19,
     "metadata": {},
     "output_type": "execute_result"
    }
   ],
   "source": [
    "# Removing the feilds i.e. Not required\n",
    "master_frame = master_frame.drop('funding_round_code', axis=1)\n",
    "master_frame = master_frame.drop('founded_at', axis=1)\n",
    "master_frame = master_frame.drop('company_permalink', axis=1)\n",
    "master_frame = master_frame.drop('homepage_url', axis=1)\n",
    "master_frame = master_frame.drop('state_code', axis=1)\n",
    "master_frame = master_frame.drop('region', axis=1)\n",
    "master_frame = master_frame.drop('city', axis=1)\n",
    "round(100*(master_frame.isnull().sum()/len(master_frame)), 2)"
   ]
  },
  {
   "cell_type": "code",
   "execution_count": 20,
   "metadata": {},
   "outputs": [
    {
     "data": {
      "text/plain": [
       "permalink                  0.00\n",
       "name                       0.00\n",
       "category_list              1.10\n",
       "status                     0.00\n",
       "country_code               6.16\n",
       "funding_round_permalink    0.00\n",
       "funding_round_type         0.00\n",
       "funded_at                  0.00\n",
       "raised_amount_usd          0.00\n",
       "dtype: float64"
      ]
     },
     "execution_count": 20,
     "metadata": {},
     "output_type": "execute_result"
    }
   ],
   "source": [
    "# Removing of NAN value in raised_amount_usd as we are doing analysis on investment it is important data\n",
    "master_frame = master_frame[~np.isnan(master_frame['raised_amount_usd'])]\n",
    "round(100*(master_frame.isnull().sum()/len(master_frame)), 2)"
   ]
  },
  {
   "cell_type": "code",
   "execution_count": 21,
   "metadata": {},
   "outputs": [
    {
     "data": {
      "text/plain": [
       "465"
      ]
     },
     "execution_count": 21,
     "metadata": {},
     "output_type": "execute_result"
    }
   ],
   "source": [
    "# count the number of rows having > 5 missing values\n",
    "len(master_frame[master_frame.isnull().sum(axis=1) > 1].index)"
   ]
  },
  {
   "cell_type": "code",
   "execution_count": 22,
   "metadata": {},
   "outputs": [
    {
     "data": {
      "text/plain": [
       "0.4896901788158976"
      ]
     },
     "execution_count": 22,
     "metadata": {},
     "output_type": "execute_result"
    }
   ],
   "source": [
    "# percentage of 5 missing rows \n",
    "100*(len(master_frame[master_frame.isnull().sum(axis=1) > 1].index) / len(master_frame))"
   ]
  },
  {
   "cell_type": "code",
   "execution_count": 23,
   "metadata": {
    "scrolled": true
   },
   "outputs": [
    {
     "data": {
      "text/plain": [
       "permalink                  0.00\n",
       "name                       0.00\n",
       "category_list              1.10\n",
       "status                     0.00\n",
       "country_code               6.16\n",
       "funding_round_permalink    0.00\n",
       "funding_round_type         0.00\n",
       "funded_at                  0.00\n",
       "raised_amount_usd          0.00\n",
       "dtype: float64"
      ]
     },
     "execution_count": 23,
     "metadata": {},
     "output_type": "execute_result"
    }
   ],
   "source": [
    "# Missing data report post cleanup \n",
    "round(100*(master_frame.isnull().sum()/len(master_frame.index)), 2)"
   ]
  },
  {
   "cell_type": "code",
   "execution_count": 24,
   "metadata": {},
   "outputs": [
    {
     "data": {
      "text/plain": [
       "17.38615997633589"
      ]
     },
     "execution_count": 24,
     "metadata": {},
     "output_type": "execute_result"
    }
   ],
   "source": [
    "# % Rows lost after clean-up\n",
    "100*(114942 - len(master_frame.index))/114942"
   ]
  },
  {
   "cell_type": "code",
   "execution_count": 25,
   "metadata": {},
   "outputs": [
    {
     "data": {
      "text/plain": [
       "count             93914\n",
       "unique            23484\n",
       "top       Biotechnology\n",
       "freq               7773\n",
       "Name: category_list, dtype: object"
      ]
     },
     "execution_count": 25,
     "metadata": {},
     "output_type": "execute_result"
    }
   ],
   "source": [
    "master_frame['category_list'].describe()"
   ]
  },
  {
   "cell_type": "code",
   "execution_count": 26,
   "metadata": {
    "scrolled": true
   },
   "outputs": [
    {
     "data": {
      "text/plain": [
       "count    9.495800e+04\n",
       "mean     1.042696e+07\n",
       "std      1.148218e+08\n",
       "min      0.000000e+00\n",
       "25%      3.225000e+05\n",
       "50%      1.680521e+06\n",
       "75%      7.000000e+06\n",
       "max      2.127194e+10\n",
       "Name: raised_amount_usd, dtype: float64"
      ]
     },
     "execution_count": 26,
     "metadata": {},
     "output_type": "execute_result"
    }
   ],
   "source": [
    "master_frame['raised_amount_usd'].describe()"
   ]
  },
  {
   "cell_type": "code",
   "execution_count": 27,
   "metadata": {},
   "outputs": [
    {
     "data": {
      "text/plain": [
       "permalink                  0.0\n",
       "name                       0.0\n",
       "category_list              0.0\n",
       "status                     0.0\n",
       "country_code               0.0\n",
       "funding_round_permalink    0.0\n",
       "funding_round_type         0.0\n",
       "funded_at                  0.0\n",
       "raised_amount_usd          0.0\n",
       "dtype: float64"
      ]
     },
     "execution_count": 27,
     "metadata": {},
     "output_type": "execute_result"
    }
   ],
   "source": [
    "# Imputing 'UNKNOWN' to values of category list and and country code\n",
    "master_frame['category_list'] = master_frame['category_list'].fillna('UNKOWN')\n",
    "master_frame['country_code'] = master_frame['country_code'].fillna('UNKOWN')\n",
    "round(100*(master_frame.isnull().sum()/len(master_frame.index)), 2)"
   ]
  },
  {
   "cell_type": "markdown",
   "metadata": {},
   "source": [
    "### Checkpoints - Part 1\n",
    "##### Checkpoint 2: Funding Type Analysis\n",
    "* Find out `most representative value of the investment amount` for venture, angel, seed, and private equity\n",
    "* which investment type do you think is the most suitable for Spark Funds?"
   ]
  },
  {
   "cell_type": "code",
   "execution_count": 28,
   "metadata": {},
   "outputs": [],
   "source": [
    "# For ploting a graphs\n",
    "import matplotlib.pyplot as plt\n",
    "import seaborn as sns\n",
    "\n",
    "# set a seaborn style of your taste\n",
    "sns.set_style(\"whitegrid\")"
   ]
  },
  {
   "cell_type": "code",
   "execution_count": 29,
   "metadata": {},
   "outputs": [
    {
     "data": {
      "text/plain": [
       "venture                  50228\n",
       "seed                     23602\n",
       "debt_financing            6682\n",
       "angel                     4860\n",
       "grant                     2124\n",
       "private_equity            1936\n",
       "undisclosed               1582\n",
       "convertible_note          1447\n",
       "equity_crowdfunding       1228\n",
       "post_ipo_equity            628\n",
       "product_crowdfunding       386\n",
       "post_ipo_debt              152\n",
       "non_equity_assistance       73\n",
       "secondary_market            30\n",
       "Name: funding_round_type, dtype: int64"
      ]
     },
     "execution_count": 29,
     "metadata": {},
     "output_type": "execute_result"
    }
   ],
   "source": [
    "master_frame['funding_round_type'].value_counts()"
   ]
  },
  {
   "cell_type": "code",
   "execution_count": 30,
   "metadata": {},
   "outputs": [
    {
     "data": {
      "image/png": "[encoded data removed]",
      "text/plain": [
       "<Figure size 432x288 with 1 Axes>"
      ]
     },
     "metadata": {},
     "output_type": "display_data"
    }
   ],
   "source": [
    "master_frame['funding_round_type'].value_counts().plot.bar()\n",
    "plt.show()"
   ]
  },
  {
   "cell_type": "code",
   "execution_count": 31,
   "metadata": {
    "scrolled": true
   },
   "outputs": [
    {
     "data": {
      "text/html": [
       "<div>\n",
       "<style scoped>\n",
       "    .dataframe tbody tr th:only-of-type {\n",
       "        vertical-align: middle;\n",
       "    }\n",
       "\n",
       "    .dataframe tbody tr th {\n",
       "        vertical-align: top;\n",
       "    }\n",
       "\n",
       "    .dataframe thead th {\n",
       "        text-align: right;\n",
       "    }\n",
       "</style>\n",
       "<table border=\"1\" class=\"dataframe\">\n",
       "  <thead>\n",
       "    <tr style=\"text-align: right;\">\n",
       "      <th></th>\n",
       "      <th>raised_amount_usd</th>\n",
       "    </tr>\n",
       "  </thead>\n",
       "  <tbody>\n",
       "    <tr>\n",
       "      <th>count</th>\n",
       "      <td>8.062600e+04</td>\n",
       "    </tr>\n",
       "    <tr>\n",
       "      <th>mean</th>\n",
       "      <td>9.348091e+06</td>\n",
       "    </tr>\n",
       "    <tr>\n",
       "      <th>std</th>\n",
       "      <td>7.562986e+07</td>\n",
       "    </tr>\n",
       "    <tr>\n",
       "      <th>min</th>\n",
       "      <td>0.000000e+00</td>\n",
       "    </tr>\n",
       "    <tr>\n",
       "      <th>25%</th>\n",
       "      <td>4.000000e+05</td>\n",
       "    </tr>\n",
       "    <tr>\n",
       "      <th>50%</th>\n",
       "      <td>2.000000e+06</td>\n",
       "    </tr>\n",
       "    <tr>\n",
       "      <th>75%</th>\n",
       "      <td>7.976016e+06</td>\n",
       "    </tr>\n",
       "    <tr>\n",
       "      <th>max</th>\n",
       "      <td>1.760000e+10</td>\n",
       "    </tr>\n",
       "  </tbody>\n",
       "</table>\n",
       "</div>"
      ],
      "text/plain": [
       "       raised_amount_usd\n",
       "count       8.062600e+04\n",
       "mean        9.348091e+06\n",
       "std         7.562986e+07\n",
       "min         0.000000e+00\n",
       "25%         4.000000e+05\n",
       "50%         2.000000e+06\n",
       "75%         7.976016e+06\n",
       "max         1.760000e+10"
      ]
     },
     "execution_count": 31,
     "metadata": {},
     "output_type": "execute_result"
    }
   ],
   "source": [
    "funding_round_type = master_frame[master_frame['funding_round_type'].isin(['venture', 'angel', 'seed', 'private_equity'])]\n",
    "funding_round_type.describe()"
   ]
  },
  {
   "cell_type": "code",
   "execution_count": 32,
   "metadata": {
    "scrolled": true
   },
   "outputs": [
    {
     "data": {
      "image/png": "[encoded data removed]",
      "text/plain": [
       "<Figure size 432x288 with 1 Axes>"
      ]
     },
     "metadata": {},
     "output_type": "display_data"
    }
   ],
   "source": [
    "funding_round_type.groupby('funding_round_type')['raised_amount_usd'].median().plot.bar()\n",
    "plt.axhline(y=5000000, color = 'g')\n",
    "plt.axhline(y=15000000, color = 'r')\n",
    "plt.show()"
   ]
  },
  {
   "cell_type": "code",
   "execution_count": 33,
   "metadata": {},
   "outputs": [
    {
     "data": {
      "image/png": "[encoded data removed]",
      "text/plain": [
       "<Figure size 432x288 with 1 Axes>"
      ]
     },
     "metadata": {},
     "output_type": "display_data"
    }
   ],
   "source": [
    "funding_round_type.groupby('funding_round_type')['raised_amount_usd'].mean().plot.bar()\n",
    "plt.axhline(y=5000000, color = 'g')\n",
    "plt.axhline(y=15000000, color = 'r')\n",
    "plt.show()"
   ]
  },
  {
   "cell_type": "code",
   "execution_count": 34,
   "metadata": {},
   "outputs": [
    {
     "data": {
      "text/plain": [
       "funding_round_type\n",
       "angel             False\n",
       "private_equity    False\n",
       "seed              False\n",
       "venture            True\n",
       "Name: raised_amount_usd, dtype: bool"
      ]
     },
     "execution_count": 34,
     "metadata": {},
     "output_type": "execute_result"
    }
   ],
   "source": [
    "# FIND the Suitable funding between 5000000 and 15000000 using mean\n",
    "funding_round_type.groupby('funding_round_type')['raised_amount_usd'].mean().between(5000000,15000000,inclusive=True)"
   ]
  },
  {
   "cell_type": "code",
   "execution_count": 35,
   "metadata": {},
   "outputs": [
    {
     "data": {
      "text/plain": [
       "funding_round_type\n",
       "angel               958694\n",
       "private_equity    73308593\n",
       "seed                719779\n",
       "venture           11748949\n",
       "Name: raised_amount_usd, dtype: int64"
      ]
     },
     "execution_count": 35,
     "metadata": {},
     "output_type": "execute_result"
    }
   ],
   "source": [
    "funding_round_type.groupby('funding_round_type')['raised_amount_usd'].mean().astype('int')"
   ]
  },
  {
   "cell_type": "code",
   "execution_count": 36,
   "metadata": {},
   "outputs": [
    {
     "data": {
      "text/plain": [
       "funding_round_type\n",
       "angel             False\n",
       "private_equity    False\n",
       "seed              False\n",
       "venture            True\n",
       "Name: raised_amount_usd, dtype: bool"
      ]
     },
     "execution_count": 36,
     "metadata": {},
     "output_type": "execute_result"
    }
   ],
   "source": [
    "## FIND the Suitable funding between 5000000 and 15000000 using median\n",
    "funding_round_type.groupby('funding_round_type')['raised_amount_usd'].median().between(5000000,15000000,inclusive=True)"
   ]
  },
  {
   "cell_type": "code",
   "execution_count": 37,
   "metadata": {},
   "outputs": [
    {
     "data": {
      "text/plain": [
       "funding_round_type\n",
       "angel               400000.0\n",
       "private_equity    20000000.0\n",
       "seed                275000.0\n",
       "venture            5000000.0\n",
       "Name: raised_amount_usd, dtype: float64"
      ]
     },
     "execution_count": 37,
     "metadata": {},
     "output_type": "execute_result"
    }
   ],
   "source": [
    "funding_round_type.groupby('funding_round_type')['raised_amount_usd'].median()"
   ]
  },
  {
   "cell_type": "markdown",
   "metadata": {},
   "source": [
    "####  Identify the investment type and, for further analysis, filter the data so it only contains the chosen investment type.\n",
    "* The most representative value of the investment amount for each funding types is :\n",
    "    - `angel              958694`\n",
    "    - `private_equity   73308593`\n",
    "    - `seed               719779`\n",
    "    - `venture          11748949`\n",
    "* Based on above data analysis, `funding_round_type` equals to `venture` only satisfies criteria for Spark Funds to invest between `5 to 15 million USD per investment round`"
   ]
  },
  {
   "cell_type": "markdown",
   "metadata": {},
   "source": [
    "### Checkpoints - Part 2\n",
    "##### Checkpoint 3: Country Analysis\n",
    "* Spark Funds wants to see the top nine countries which have received the highest total funding\n",
    "* For the chosen investment type, make a data frame named top9 with the top nine countries"
   ]
  },
  {
   "cell_type": "code",
   "execution_count": 38,
   "metadata": {},
   "outputs": [
    {
     "data": {
      "text/html": [
       "<div>\n",
       "<style scoped>\n",
       "    .dataframe tbody tr th:only-of-type {\n",
       "        vertical-align: middle;\n",
       "    }\n",
       "\n",
       "    .dataframe tbody tr th {\n",
       "        vertical-align: top;\n",
       "    }\n",
       "\n",
       "    .dataframe thead th {\n",
       "        text-align: right;\n",
       "    }\n",
       "</style>\n",
       "<table border=\"1\" class=\"dataframe\">\n",
       "  <thead>\n",
       "    <tr style=\"text-align: right;\">\n",
       "      <th></th>\n",
       "      <th>raised_amount_usd</th>\n",
       "    </tr>\n",
       "  </thead>\n",
       "  <tbody>\n",
       "    <tr>\n",
       "      <th>count</th>\n",
       "      <td>5.022800e+04</td>\n",
       "    </tr>\n",
       "    <tr>\n",
       "      <th>mean</th>\n",
       "      <td>1.174895e+07</td>\n",
       "    </tr>\n",
       "    <tr>\n",
       "      <th>std</th>\n",
       "      <td>8.635207e+07</td>\n",
       "    </tr>\n",
       "    <tr>\n",
       "      <th>min</th>\n",
       "      <td>0.000000e+00</td>\n",
       "    </tr>\n",
       "    <tr>\n",
       "      <th>25%</th>\n",
       "      <td>1.600902e+06</td>\n",
       "    </tr>\n",
       "    <tr>\n",
       "      <th>50%</th>\n",
       "      <td>5.000000e+06</td>\n",
       "    </tr>\n",
       "    <tr>\n",
       "      <th>75%</th>\n",
       "      <td>1.200000e+07</td>\n",
       "    </tr>\n",
       "    <tr>\n",
       "      <th>max</th>\n",
       "      <td>1.760000e+10</td>\n",
       "    </tr>\n",
       "  </tbody>\n",
       "</table>\n",
       "</div>"
      ],
      "text/plain": [
       "       raised_amount_usd\n",
       "count       5.022800e+04\n",
       "mean        1.174895e+07\n",
       "std         8.635207e+07\n",
       "min         0.000000e+00\n",
       "25%         1.600902e+06\n",
       "50%         5.000000e+06\n",
       "75%         1.200000e+07\n",
       "max         1.760000e+10"
      ]
     },
     "execution_count": 38,
     "metadata": {},
     "output_type": "execute_result"
    }
   ],
   "source": [
    "# create a new data frame for country analysis\n",
    "venture_funding = master_frame[master_frame['funding_round_type'].isin(['venture'])]\n",
    "venture_funding.describe()"
   ]
  },
  {
   "cell_type": "code",
   "execution_count": 39,
   "metadata": {},
   "outputs": [
    {
     "data": {
      "text/plain": [
       "count     50228\n",
       "unique       98\n",
       "top         USA\n",
       "freq      36139\n",
       "Name: country_code, dtype: object"
      ]
     },
     "execution_count": 39,
     "metadata": {},
     "output_type": "execute_result"
    }
   ],
   "source": [
    "venture_funding['country_code'].describe()"
   ]
  },
  {
   "cell_type": "code",
   "execution_count": 40,
   "metadata": {
    "scrolled": true
   },
   "outputs": [
    {
     "data": {
      "text/plain": [
       "country_code\n",
       "ARE          342617539\n",
       "ARG          314338819\n",
       "ARM           26517500\n",
       "AUS         1322934948\n",
       "AUT          630954952\n",
       "              ...     \n",
       "UNKOWN     25506108414\n",
       "URY           19830000\n",
       "USA       422510842796\n",
       "VNM           84880509\n",
       "ZAF          234062861\n",
       "Name: raised_amount_usd, Length: 98, dtype: int64"
      ]
     },
     "execution_count": 40,
     "metadata": {},
     "output_type": "execute_result"
    }
   ],
   "source": [
    "venture_funding.groupby('country_code')['raised_amount_usd'].sum().astype('int')"
   ]
  },
  {
   "cell_type": "code",
   "execution_count": 41,
   "metadata": {},
   "outputs": [
    {
     "data": {
      "text/html": [
       "<div>\n",
       "<style scoped>\n",
       "    .dataframe tbody tr th:only-of-type {\n",
       "        vertical-align: middle;\n",
       "    }\n",
       "\n",
       "    .dataframe tbody tr th {\n",
       "        vertical-align: top;\n",
       "    }\n",
       "\n",
       "    .dataframe thead th {\n",
       "        text-align: right;\n",
       "    }\n",
       "</style>\n",
       "<table border=\"1\" class=\"dataframe\">\n",
       "  <thead>\n",
       "    <tr style=\"text-align: right;\">\n",
       "      <th></th>\n",
       "      <th>permalink</th>\n",
       "      <th>name</th>\n",
       "      <th>category_list</th>\n",
       "      <th>status</th>\n",
       "      <th>country_code</th>\n",
       "      <th>funding_round_permalink</th>\n",
       "      <th>funding_round_type</th>\n",
       "      <th>funded_at</th>\n",
       "      <th>raised_amount_usd</th>\n",
       "    </tr>\n",
       "  </thead>\n",
       "  <tbody>\n",
       "    <tr>\n",
       "      <th>0</th>\n",
       "      <td>/ORGANIZATION/-FAME</td>\n",
       "      <td>#fame</td>\n",
       "      <td>Media</td>\n",
       "      <td>operating</td>\n",
       "      <td>IND</td>\n",
       "      <td>/funding-round/9a01d05418af9f794eebff7ace91f638</td>\n",
       "      <td>venture</td>\n",
       "      <td>05-01-2015</td>\n",
       "      <td>10000000.0</td>\n",
       "    </tr>\n",
       "    <tr>\n",
       "      <th>4</th>\n",
       "      <td>/ORGANIZATION/0-6-COM</td>\n",
       "      <td>0-6.com</td>\n",
       "      <td>Curated Web</td>\n",
       "      <td>operating</td>\n",
       "      <td>CHN</td>\n",
       "      <td>/funding-round/5727accaeaa57461bd22a9bdd945382d</td>\n",
       "      <td>venture</td>\n",
       "      <td>19-03-2008</td>\n",
       "      <td>2000000.0</td>\n",
       "    </tr>\n",
       "    <tr>\n",
       "      <th>8</th>\n",
       "      <td>/ORGANIZATION/0NDINE-BIOMEDICAL-INC</td>\n",
       "      <td>Ondine Biomedical Inc.</td>\n",
       "      <td>Biotechnology</td>\n",
       "      <td>operating</td>\n",
       "      <td>CAN</td>\n",
       "      <td>/funding-round/954b9499724b946ad8c396a57a5f3b72</td>\n",
       "      <td>venture</td>\n",
       "      <td>21-12-2009</td>\n",
       "      <td>719491.0</td>\n",
       "    </tr>\n",
       "    <tr>\n",
       "      <th>10</th>\n",
       "      <td>/ORGANIZATION/0XDATA</td>\n",
       "      <td>H2O.ai</td>\n",
       "      <td>Analytics</td>\n",
       "      <td>operating</td>\n",
       "      <td>USA</td>\n",
       "      <td>/funding-round/3bb2ee4a2d89251a10aaa735b1180e44</td>\n",
       "      <td>venture</td>\n",
       "      <td>09-11-2015</td>\n",
       "      <td>20000000.0</td>\n",
       "    </tr>\n",
       "    <tr>\n",
       "      <th>11</th>\n",
       "      <td>/ORGANIZATION/0XDATA</td>\n",
       "      <td>H2O.ai</td>\n",
       "      <td>Analytics</td>\n",
       "      <td>operating</td>\n",
       "      <td>USA</td>\n",
       "      <td>/funding-round/ae2a174c06517c2394aed45006322a7e</td>\n",
       "      <td>venture</td>\n",
       "      <td>03-01-2013</td>\n",
       "      <td>1700000.0</td>\n",
       "    </tr>\n",
       "  </tbody>\n",
       "</table>\n",
       "</div>"
      ],
      "text/plain": [
       "                              permalink                    name  \\\n",
       "0                   /ORGANIZATION/-FAME                   #fame   \n",
       "4                 /ORGANIZATION/0-6-COM                 0-6.com   \n",
       "8   /ORGANIZATION/0NDINE-BIOMEDICAL-INC  Ondine Biomedical Inc.   \n",
       "10                 /ORGANIZATION/0XDATA                  H2O.ai   \n",
       "11                 /ORGANIZATION/0XDATA                  H2O.ai   \n",
       "\n",
       "    category_list     status country_code  \\\n",
       "0           Media  operating          IND   \n",
       "4     Curated Web  operating          CHN   \n",
       "8   Biotechnology  operating          CAN   \n",
       "10      Analytics  operating          USA   \n",
       "11      Analytics  operating          USA   \n",
       "\n",
       "                            funding_round_permalink funding_round_type  \\\n",
       "0   /funding-round/9a01d05418af9f794eebff7ace91f638            venture   \n",
       "4   /funding-round/5727accaeaa57461bd22a9bdd945382d            venture   \n",
       "8   /funding-round/954b9499724b946ad8c396a57a5f3b72            venture   \n",
       "10  /funding-round/3bb2ee4a2d89251a10aaa735b1180e44            venture   \n",
       "11  /funding-round/ae2a174c06517c2394aed45006322a7e            venture   \n",
       "\n",
       "     funded_at  raised_amount_usd  \n",
       "0   05-01-2015         10000000.0  \n",
       "4   19-03-2008          2000000.0  \n",
       "8   21-12-2009           719491.0  \n",
       "10  09-11-2015         20000000.0  \n",
       "11  03-01-2013          1700000.0  "
      ]
     },
     "execution_count": 41,
     "metadata": {},
     "output_type": "execute_result"
    }
   ],
   "source": [
    "#remove the UNKOWN values for country analysis\n",
    "venture_funding = venture_funding[~(venture_funding['country_code'] == 'UNKOWN')]\n",
    "venture_funding.head()"
   ]
  },
  {
   "cell_type": "code",
   "execution_count": 42,
   "metadata": {},
   "outputs": [
    {
     "data": {
      "text/plain": [
       "country_code\n",
       "USA    422510842796\n",
       "CHN     39835418773\n",
       "GBR     20245627416\n",
       "IND     14391858718\n",
       "CAN      9583332317\n",
       "FRA      7259536732\n",
       "ISR      6907514579\n",
       "DEU      6346959822\n",
       "JPN      3363676611\n",
       "Name: raised_amount_usd, dtype: int64"
      ]
     },
     "execution_count": 42,
     "metadata": {},
     "output_type": "execute_result"
    }
   ],
   "source": [
    "venture_funding.groupby('country_code')['raised_amount_usd'].sum().sort_values(ascending=False).astype('int').head(9)"
   ]
  },
  {
   "cell_type": "code",
   "execution_count": 43,
   "metadata": {
    "scrolled": true
   },
   "outputs": [
    {
     "data": {
      "text/plain": [
       "country_code\n",
       "CAN      9583332317\n",
       "CHN     39835418773\n",
       "DEU      6346959822\n",
       "FRA      7259536732\n",
       "GBR     20245627416\n",
       "IND     14391858718\n",
       "ISR      6907514579\n",
       "JPN      3363676611\n",
       "USA    422510842796\n",
       "Name: raised_amount_usd, dtype: int64"
      ]
     },
     "execution_count": 43,
     "metadata": {},
     "output_type": "execute_result"
    }
   ],
   "source": [
    "# top9 data frame for furthur calculations\n",
    "top9 = venture_funding[venture_funding['country_code'].isin([\"USA\",\"CHN\",\"GBR\",\"IND\",\"CAN\",\"FRA\",\"ISR\",\"DEU\",\"JPN\"])]\n",
    "top9.groupby('country_code')['raised_amount_usd'].sum().astype('int')"
   ]
  },
  {
   "cell_type": "markdown",
   "metadata": {},
   "source": [
    "### Checkpoints - Part 2\n",
    "##### Checkpoint 4: Sector Analysis 1\n",
    "* Extract the primary sector of each category list from the category_list column\n",
    "* Use the mapping file 'mapping.csv' to map each primary sector to one of the eight main sectors"
   ]
  },
  {
   "cell_type": "code",
   "execution_count": 44,
   "metadata": {},
   "outputs": [
    {
     "data": {
      "text/html": [
       "<div>\n",
       "<style scoped>\n",
       "    .dataframe tbody tr th:only-of-type {\n",
       "        vertical-align: middle;\n",
       "    }\n",
       "\n",
       "    .dataframe tbody tr th {\n",
       "        vertical-align: top;\n",
       "    }\n",
       "\n",
       "    .dataframe thead th {\n",
       "        text-align: right;\n",
       "    }\n",
       "</style>\n",
       "<table border=\"1\" class=\"dataframe\">\n",
       "  <thead>\n",
       "    <tr style=\"text-align: right;\">\n",
       "      <th></th>\n",
       "      <th>permalink</th>\n",
       "      <th>name</th>\n",
       "      <th>category_list</th>\n",
       "      <th>status</th>\n",
       "      <th>country_code</th>\n",
       "      <th>funding_round_permalink</th>\n",
       "      <th>funding_round_type</th>\n",
       "      <th>funded_at</th>\n",
       "      <th>raised_amount_usd</th>\n",
       "    </tr>\n",
       "  </thead>\n",
       "  <tbody>\n",
       "    <tr>\n",
       "      <th>0</th>\n",
       "      <td>/ORGANIZATION/-FAME</td>\n",
       "      <td>#fame</td>\n",
       "      <td>Media</td>\n",
       "      <td>operating</td>\n",
       "      <td>IND</td>\n",
       "      <td>/funding-round/9a01d05418af9f794eebff7ace91f638</td>\n",
       "      <td>venture</td>\n",
       "      <td>05-01-2015</td>\n",
       "      <td>10000000.0</td>\n",
       "    </tr>\n",
       "    <tr>\n",
       "      <th>4</th>\n",
       "      <td>/ORGANIZATION/0-6-COM</td>\n",
       "      <td>0-6.com</td>\n",
       "      <td>Curated Web</td>\n",
       "      <td>operating</td>\n",
       "      <td>CHN</td>\n",
       "      <td>/funding-round/5727accaeaa57461bd22a9bdd945382d</td>\n",
       "      <td>venture</td>\n",
       "      <td>19-03-2008</td>\n",
       "      <td>2000000.0</td>\n",
       "    </tr>\n",
       "    <tr>\n",
       "      <th>8</th>\n",
       "      <td>/ORGANIZATION/0NDINE-BIOMEDICAL-INC</td>\n",
       "      <td>Ondine Biomedical Inc.</td>\n",
       "      <td>Biotechnology</td>\n",
       "      <td>operating</td>\n",
       "      <td>CAN</td>\n",
       "      <td>/funding-round/954b9499724b946ad8c396a57a5f3b72</td>\n",
       "      <td>venture</td>\n",
       "      <td>21-12-2009</td>\n",
       "      <td>719491.0</td>\n",
       "    </tr>\n",
       "    <tr>\n",
       "      <th>10</th>\n",
       "      <td>/ORGANIZATION/0XDATA</td>\n",
       "      <td>H2O.ai</td>\n",
       "      <td>Analytics</td>\n",
       "      <td>operating</td>\n",
       "      <td>USA</td>\n",
       "      <td>/funding-round/3bb2ee4a2d89251a10aaa735b1180e44</td>\n",
       "      <td>venture</td>\n",
       "      <td>09-11-2015</td>\n",
       "      <td>20000000.0</td>\n",
       "    </tr>\n",
       "    <tr>\n",
       "      <th>11</th>\n",
       "      <td>/ORGANIZATION/0XDATA</td>\n",
       "      <td>H2O.ai</td>\n",
       "      <td>Analytics</td>\n",
       "      <td>operating</td>\n",
       "      <td>USA</td>\n",
       "      <td>/funding-round/ae2a174c06517c2394aed45006322a7e</td>\n",
       "      <td>venture</td>\n",
       "      <td>03-01-2013</td>\n",
       "      <td>1700000.0</td>\n",
       "    </tr>\n",
       "  </tbody>\n",
       "</table>\n",
       "</div>"
      ],
      "text/plain": [
       "                              permalink                    name  \\\n",
       "0                   /ORGANIZATION/-FAME                   #fame   \n",
       "4                 /ORGANIZATION/0-6-COM                 0-6.com   \n",
       "8   /ORGANIZATION/0NDINE-BIOMEDICAL-INC  Ondine Biomedical Inc.   \n",
       "10                 /ORGANIZATION/0XDATA                  H2O.ai   \n",
       "11                 /ORGANIZATION/0XDATA                  H2O.ai   \n",
       "\n",
       "    category_list     status country_code  \\\n",
       "0           Media  operating          IND   \n",
       "4     Curated Web  operating          CHN   \n",
       "8   Biotechnology  operating          CAN   \n",
       "10      Analytics  operating          USA   \n",
       "11      Analytics  operating          USA   \n",
       "\n",
       "                            funding_round_permalink funding_round_type  \\\n",
       "0   /funding-round/9a01d05418af9f794eebff7ace91f638            venture   \n",
       "4   /funding-round/5727accaeaa57461bd22a9bdd945382d            venture   \n",
       "8   /funding-round/954b9499724b946ad8c396a57a5f3b72            venture   \n",
       "10  /funding-round/3bb2ee4a2d89251a10aaa735b1180e44            venture   \n",
       "11  /funding-round/ae2a174c06517c2394aed45006322a7e            venture   \n",
       "\n",
       "     funded_at  raised_amount_usd  \n",
       "0   05-01-2015         10000000.0  \n",
       "4   19-03-2008          2000000.0  \n",
       "8   21-12-2009           719491.0  \n",
       "10  09-11-2015         20000000.0  \n",
       "11  03-01-2013          1700000.0  "
      ]
     },
     "execution_count": 44,
     "metadata": {},
     "output_type": "execute_result"
    }
   ],
   "source": [
    "top9.head()"
   ]
  },
  {
   "cell_type": "code",
   "execution_count": 45,
   "metadata": {},
   "outputs": [
    {
     "data": {
      "text/plain": [
       "BIOTECHNOLOGY               6413\n",
       "SOFTWARE                    3859\n",
       "ADVERTISING                 2061\n",
       "HEALTH CARE                 1741\n",
       "ENTERPRISE SOFTWARE         1688\n",
       "                            ... \n",
       "OUTDOORS                       1\n",
       "CLEAN TECHNOLOGY IT            1\n",
       "ONLINE VIDEO ADVERTISING       1\n",
       "NATURAL GAS USES               1\n",
       "ESTIMATION AND QUOTING         1\n",
       "Name: sector, Length: 588, dtype: int64"
      ]
     },
     "execution_count": 45,
     "metadata": {},
     "output_type": "execute_result"
    }
   ],
   "source": [
    "pd.set_option('mode.chained_assignment', None)\n",
    "top9.loc[:,'sector'] = top9['category_list'].str.split('|').str[0].copy()\n",
    "top9.loc[:,'sector'] = top9['sector'].str.upper().copy()\n",
    "top9['sector'].value_counts()"
   ]
  },
  {
   "cell_type": "code",
   "execution_count": 46,
   "metadata": {
    "scrolled": false
   },
   "outputs": [
    {
     "data": {
      "text/html": [
       "<div>\n",
       "<style scoped>\n",
       "    .dataframe tbody tr th:only-of-type {\n",
       "        vertical-align: middle;\n",
       "    }\n",
       "\n",
       "    .dataframe tbody tr th {\n",
       "        vertical-align: top;\n",
       "    }\n",
       "\n",
       "    .dataframe thead th {\n",
       "        text-align: right;\n",
       "    }\n",
       "</style>\n",
       "<table border=\"1\" class=\"dataframe\">\n",
       "  <thead>\n",
       "    <tr style=\"text-align: right;\">\n",
       "      <th></th>\n",
       "      <th>category_list</th>\n",
       "      <th>Automotive &amp; Sports</th>\n",
       "      <th>Blanks</th>\n",
       "      <th>Cleantech / Semiconductors</th>\n",
       "      <th>Entertainment</th>\n",
       "      <th>Health</th>\n",
       "      <th>Manufacturing</th>\n",
       "      <th>News, Search and Messaging</th>\n",
       "      <th>Others</th>\n",
       "      <th>Social, Finance, Analytics, Advertising</th>\n",
       "    </tr>\n",
       "  </thead>\n",
       "  <tbody>\n",
       "    <tr>\n",
       "      <th>0</th>\n",
       "      <td>NaN</td>\n",
       "      <td>0</td>\n",
       "      <td>1</td>\n",
       "      <td>0</td>\n",
       "      <td>0</td>\n",
       "      <td>0</td>\n",
       "      <td>0</td>\n",
       "      <td>0</td>\n",
       "      <td>0</td>\n",
       "      <td>0</td>\n",
       "    </tr>\n",
       "    <tr>\n",
       "      <th>1</th>\n",
       "      <td>3D</td>\n",
       "      <td>0</td>\n",
       "      <td>0</td>\n",
       "      <td>0</td>\n",
       "      <td>0</td>\n",
       "      <td>0</td>\n",
       "      <td>1</td>\n",
       "      <td>0</td>\n",
       "      <td>0</td>\n",
       "      <td>0</td>\n",
       "    </tr>\n",
       "    <tr>\n",
       "      <th>2</th>\n",
       "      <td>3D Printing</td>\n",
       "      <td>0</td>\n",
       "      <td>0</td>\n",
       "      <td>0</td>\n",
       "      <td>0</td>\n",
       "      <td>0</td>\n",
       "      <td>1</td>\n",
       "      <td>0</td>\n",
       "      <td>0</td>\n",
       "      <td>0</td>\n",
       "    </tr>\n",
       "    <tr>\n",
       "      <th>3</th>\n",
       "      <td>3D Technology</td>\n",
       "      <td>0</td>\n",
       "      <td>0</td>\n",
       "      <td>0</td>\n",
       "      <td>0</td>\n",
       "      <td>0</td>\n",
       "      <td>1</td>\n",
       "      <td>0</td>\n",
       "      <td>0</td>\n",
       "      <td>0</td>\n",
       "    </tr>\n",
       "    <tr>\n",
       "      <th>4</th>\n",
       "      <td>Accounting</td>\n",
       "      <td>0</td>\n",
       "      <td>0</td>\n",
       "      <td>0</td>\n",
       "      <td>0</td>\n",
       "      <td>0</td>\n",
       "      <td>0</td>\n",
       "      <td>0</td>\n",
       "      <td>0</td>\n",
       "      <td>1</td>\n",
       "    </tr>\n",
       "  </tbody>\n",
       "</table>\n",
       "</div>"
      ],
      "text/plain": [
       "   category_list  Automotive & Sports  Blanks  Cleantech / Semiconductors  \\\n",
       "0            NaN                    0       1                           0   \n",
       "1             3D                    0       0                           0   \n",
       "2    3D Printing                    0       0                           0   \n",
       "3  3D Technology                    0       0                           0   \n",
       "4     Accounting                    0       0                           0   \n",
       "\n",
       "   Entertainment  Health  Manufacturing  News, Search and Messaging  Others  \\\n",
       "0              0       0              0                           0       0   \n",
       "1              0       0              1                           0       0   \n",
       "2              0       0              1                           0       0   \n",
       "3              0       0              1                           0       0   \n",
       "4              0       0              0                           0       0   \n",
       "\n",
       "   Social, Finance, Analytics, Advertising  \n",
       "0                                        0  \n",
       "1                                        0  \n",
       "2                                        0  \n",
       "3                                        0  \n",
       "4                                        1  "
      ]
     },
     "execution_count": 46,
     "metadata": {},
     "output_type": "execute_result"
    }
   ],
   "source": [
    "mappings = pd.read_csv(\"./data/mapping.csv\", encoding = \"ISO-8859-1\")\n",
    "mappings.head()"
   ]
  },
  {
   "cell_type": "code",
   "execution_count": 47,
   "metadata": {},
   "outputs": [
    {
     "data": {
      "text/html": [
       "<div>\n",
       "<style scoped>\n",
       "    .dataframe tbody tr th:only-of-type {\n",
       "        vertical-align: middle;\n",
       "    }\n",
       "\n",
       "    .dataframe tbody tr th {\n",
       "        vertical-align: top;\n",
       "    }\n",
       "\n",
       "    .dataframe thead th {\n",
       "        text-align: right;\n",
       "    }\n",
       "</style>\n",
       "<table border=\"1\" class=\"dataframe\">\n",
       "  <thead>\n",
       "    <tr style=\"text-align: right;\">\n",
       "      <th></th>\n",
       "      <th>category_list</th>\n",
       "      <th>Automotive &amp; Sports</th>\n",
       "      <th>Blanks</th>\n",
       "      <th>Cleantech / Semiconductors</th>\n",
       "      <th>Entertainment</th>\n",
       "      <th>Health</th>\n",
       "      <th>Manufacturing</th>\n",
       "      <th>News, Search and Messaging</th>\n",
       "      <th>Others</th>\n",
       "      <th>Social, Finance, Analytics, Advertising</th>\n",
       "    </tr>\n",
       "  </thead>\n",
       "  <tbody>\n",
       "    <tr>\n",
       "      <th>0</th>\n",
       "      <td>NaN</td>\n",
       "      <td>0</td>\n",
       "      <td>1</td>\n",
       "      <td>0</td>\n",
       "      <td>0</td>\n",
       "      <td>0</td>\n",
       "      <td>0</td>\n",
       "      <td>0</td>\n",
       "      <td>0</td>\n",
       "      <td>0</td>\n",
       "    </tr>\n",
       "    <tr>\n",
       "      <th>1</th>\n",
       "      <td>3D</td>\n",
       "      <td>0</td>\n",
       "      <td>0</td>\n",
       "      <td>0</td>\n",
       "      <td>0</td>\n",
       "      <td>0</td>\n",
       "      <td>1</td>\n",
       "      <td>0</td>\n",
       "      <td>0</td>\n",
       "      <td>0</td>\n",
       "    </tr>\n",
       "    <tr>\n",
       "      <th>2</th>\n",
       "      <td>3D Printing</td>\n",
       "      <td>0</td>\n",
       "      <td>0</td>\n",
       "      <td>0</td>\n",
       "      <td>0</td>\n",
       "      <td>0</td>\n",
       "      <td>1</td>\n",
       "      <td>0</td>\n",
       "      <td>0</td>\n",
       "      <td>0</td>\n",
       "    </tr>\n",
       "    <tr>\n",
       "      <th>3</th>\n",
       "      <td>3D Technology</td>\n",
       "      <td>0</td>\n",
       "      <td>0</td>\n",
       "      <td>0</td>\n",
       "      <td>0</td>\n",
       "      <td>0</td>\n",
       "      <td>1</td>\n",
       "      <td>0</td>\n",
       "      <td>0</td>\n",
       "      <td>0</td>\n",
       "    </tr>\n",
       "    <tr>\n",
       "      <th>4</th>\n",
       "      <td>Accounting</td>\n",
       "      <td>0</td>\n",
       "      <td>0</td>\n",
       "      <td>0</td>\n",
       "      <td>0</td>\n",
       "      <td>0</td>\n",
       "      <td>0</td>\n",
       "      <td>0</td>\n",
       "      <td>0</td>\n",
       "      <td>1</td>\n",
       "    </tr>\n",
       "  </tbody>\n",
       "</table>\n",
       "</div>"
      ],
      "text/plain": [
       "   category_list  Automotive & Sports  Blanks  Cleantech / Semiconductors  \\\n",
       "0            NaN                    0       1                           0   \n",
       "1             3D                    0       0                           0   \n",
       "2    3D Printing                    0       0                           0   \n",
       "3  3D Technology                    0       0                           0   \n",
       "4     Accounting                    0       0                           0   \n",
       "\n",
       "   Entertainment  Health  Manufacturing  News, Search and Messaging  Others  \\\n",
       "0              0       0              0                           0       0   \n",
       "1              0       0              1                           0       0   \n",
       "2              0       0              1                           0       0   \n",
       "3              0       0              1                           0       0   \n",
       "4              0       0              0                           0       0   \n",
       "\n",
       "   Social, Finance, Analytics, Advertising  \n",
       "0                                        0  \n",
       "1                                        0  \n",
       "2                                        0  \n",
       "3                                        0  \n",
       "4                                        1  "
      ]
     },
     "execution_count": 47,
     "metadata": {},
     "output_type": "execute_result"
    }
   ],
   "source": [
    "# Analysied the mappings data frame. Found the Replacing 0 in the category list entries \n",
    "mappings.replace({'category_list': '0'},{'category_list': 'na'},regex=True,inplace=True)\n",
    "mappings.head()"
   ]
  },
  {
   "cell_type": "code",
   "execution_count": 48,
   "metadata": {},
   "outputs": [
    {
     "data": {
      "text/html": [
       "<div>\n",
       "<style scoped>\n",
       "    .dataframe tbody tr th:only-of-type {\n",
       "        vertical-align: middle;\n",
       "    }\n",
       "\n",
       "    .dataframe tbody tr th {\n",
       "        vertical-align: top;\n",
       "    }\n",
       "\n",
       "    .dataframe thead th {\n",
       "        text-align: right;\n",
       "    }\n",
       "</style>\n",
       "<table border=\"1\" class=\"dataframe\">\n",
       "  <thead>\n",
       "    <tr style=\"text-align: right;\">\n",
       "      <th></th>\n",
       "      <th>category_list</th>\n",
       "      <th>main_sector</th>\n",
       "      <th>value</th>\n",
       "    </tr>\n",
       "  </thead>\n",
       "  <tbody>\n",
       "    <tr>\n",
       "      <th>0</th>\n",
       "      <td>NaN</td>\n",
       "      <td>Automotive &amp; Sports</td>\n",
       "      <td>0</td>\n",
       "    </tr>\n",
       "    <tr>\n",
       "      <th>1</th>\n",
       "      <td>3D</td>\n",
       "      <td>Automotive &amp; Sports</td>\n",
       "      <td>0</td>\n",
       "    </tr>\n",
       "    <tr>\n",
       "      <th>2</th>\n",
       "      <td>3D Printing</td>\n",
       "      <td>Automotive &amp; Sports</td>\n",
       "      <td>0</td>\n",
       "    </tr>\n",
       "    <tr>\n",
       "      <th>3</th>\n",
       "      <td>3D Technology</td>\n",
       "      <td>Automotive &amp; Sports</td>\n",
       "      <td>0</td>\n",
       "    </tr>\n",
       "    <tr>\n",
       "      <th>4</th>\n",
       "      <td>Accounting</td>\n",
       "      <td>Automotive &amp; Sports</td>\n",
       "      <td>0</td>\n",
       "    </tr>\n",
       "  </tbody>\n",
       "</table>\n",
       "</div>"
      ],
      "text/plain": [
       "   category_list          main_sector  value\n",
       "0            NaN  Automotive & Sports      0\n",
       "1             3D  Automotive & Sports      0\n",
       "2    3D Printing  Automotive & Sports      0\n",
       "3  3D Technology  Automotive & Sports      0\n",
       "4     Accounting  Automotive & Sports      0"
      ]
     },
     "execution_count": 48,
     "metadata": {},
     "output_type": "execute_result"
    }
   ],
   "source": [
    "#Using melt function, transpose the column names into master_category column with values 0 and 1\n",
    "mappings = mappings.melt(id_vars=\"category_list\",var_name=\"main_sector\")\n",
    "mappings.head()"
   ]
  },
  {
   "cell_type": "code",
   "execution_count": 49,
   "metadata": {},
   "outputs": [
    {
     "data": {
      "text/html": [
       "<div>\n",
       "<style scoped>\n",
       "    .dataframe tbody tr th:only-of-type {\n",
       "        vertical-align: middle;\n",
       "    }\n",
       "\n",
       "    .dataframe tbody tr th {\n",
       "        vertical-align: top;\n",
       "    }\n",
       "\n",
       "    .dataframe thead th {\n",
       "        text-align: right;\n",
       "    }\n",
       "</style>\n",
       "<table border=\"1\" class=\"dataframe\">\n",
       "  <thead>\n",
       "    <tr style=\"text-align: right;\">\n",
       "      <th></th>\n",
       "      <th>category_list</th>\n",
       "      <th>main_sector</th>\n",
       "      <th>value</th>\n",
       "    </tr>\n",
       "  </thead>\n",
       "  <tbody>\n",
       "    <tr>\n",
       "      <th>8</th>\n",
       "      <td>ADVENTURE TRAVEL</td>\n",
       "      <td>Automotive &amp; Sports</td>\n",
       "      <td>1</td>\n",
       "    </tr>\n",
       "    <tr>\n",
       "      <th>14</th>\n",
       "      <td>AEROSPACE</td>\n",
       "      <td>Automotive &amp; Sports</td>\n",
       "      <td>1</td>\n",
       "    </tr>\n",
       "    <tr>\n",
       "      <th>45</th>\n",
       "      <td>AUTO</td>\n",
       "      <td>Automotive &amp; Sports</td>\n",
       "      <td>1</td>\n",
       "    </tr>\n",
       "    <tr>\n",
       "      <th>46</th>\n",
       "      <td>AUTOMATED KIOSK</td>\n",
       "      <td>Automotive &amp; Sports</td>\n",
       "      <td>1</td>\n",
       "    </tr>\n",
       "    <tr>\n",
       "      <th>47</th>\n",
       "      <td>AUTOMOTIVE</td>\n",
       "      <td>Automotive &amp; Sports</td>\n",
       "      <td>1</td>\n",
       "    </tr>\n",
       "    <tr>\n",
       "      <th>...</th>\n",
       "      <td>...</td>\n",
       "      <td>...</td>\n",
       "      <td>...</td>\n",
       "    </tr>\n",
       "    <tr>\n",
       "      <th>6121</th>\n",
       "      <td>SOCIAL RECRUITING</td>\n",
       "      <td>Social, Finance, Analytics, Advertising</td>\n",
       "      <td>1</td>\n",
       "    </tr>\n",
       "    <tr>\n",
       "      <th>6122</th>\n",
       "      <td>SOCIAL TELEVISION</td>\n",
       "      <td>Social, Finance, Analytics, Advertising</td>\n",
       "      <td>1</td>\n",
       "    </tr>\n",
       "    <tr>\n",
       "      <th>6123</th>\n",
       "      <td>SOCIAL TRAVEL</td>\n",
       "      <td>Social, Finance, Analytics, Advertising</td>\n",
       "      <td>1</td>\n",
       "    </tr>\n",
       "    <tr>\n",
       "      <th>6134</th>\n",
       "      <td>STOCK EXCHANGES</td>\n",
       "      <td>Social, Finance, Analytics, Advertising</td>\n",
       "      <td>1</td>\n",
       "    </tr>\n",
       "    <tr>\n",
       "      <th>6167</th>\n",
       "      <td>VENTURE CAPITAL</td>\n",
       "      <td>Social, Finance, Analytics, Advertising</td>\n",
       "      <td>1</td>\n",
       "    </tr>\n",
       "  </tbody>\n",
       "</table>\n",
       "<p>687 rows × 3 columns</p>\n",
       "</div>"
      ],
      "text/plain": [
       "          category_list                              main_sector  value\n",
       "8      ADVENTURE TRAVEL                      Automotive & Sports      1\n",
       "14            AEROSPACE                      Automotive & Sports      1\n",
       "45                 AUTO                      Automotive & Sports      1\n",
       "46      AUTOMATED KIOSK                      Automotive & Sports      1\n",
       "47           AUTOMOTIVE                      Automotive & Sports      1\n",
       "...                 ...                                      ...    ...\n",
       "6121  SOCIAL RECRUITING  Social, Finance, Analytics, Advertising      1\n",
       "6122  SOCIAL TELEVISION  Social, Finance, Analytics, Advertising      1\n",
       "6123      SOCIAL TRAVEL  Social, Finance, Analytics, Advertising      1\n",
       "6134    STOCK EXCHANGES  Social, Finance, Analytics, Advertising      1\n",
       "6167    VENTURE CAPITAL  Social, Finance, Analytics, Advertising      1\n",
       "\n",
       "[687 rows x 3 columns]"
      ]
     },
     "execution_count": 49,
     "metadata": {},
     "output_type": "execute_result"
    }
   ],
   "source": [
    "#Remove rows with 0s in value column and Blanks in main_sector column\n",
    "mappings = mappings.loc[~(mappings[\"value\"]==0)]\n",
    "mappings = mappings.loc[~(mappings['main_sector']=='Blanks')]\n",
    "mappings['category_list'] = mappings['category_list'].str.upper()\n",
    "mappings"
   ]
  },
  {
   "cell_type": "code",
   "execution_count": 50,
   "metadata": {},
   "outputs": [
    {
     "data": {
      "text/html": [
       "<div>\n",
       "<style scoped>\n",
       "    .dataframe tbody tr th:only-of-type {\n",
       "        vertical-align: middle;\n",
       "    }\n",
       "\n",
       "    .dataframe tbody tr th {\n",
       "        vertical-align: top;\n",
       "    }\n",
       "\n",
       "    .dataframe thead th {\n",
       "        text-align: right;\n",
       "    }\n",
       "</style>\n",
       "<table border=\"1\" class=\"dataframe\">\n",
       "  <thead>\n",
       "    <tr style=\"text-align: right;\">\n",
       "      <th></th>\n",
       "      <th>category_list</th>\n",
       "      <th>main_sector</th>\n",
       "      <th>value</th>\n",
       "    </tr>\n",
       "  </thead>\n",
       "  <tbody>\n",
       "    <tr>\n",
       "      <th>8</th>\n",
       "      <td>ADVENTURE TRAVEL</td>\n",
       "      <td>Automotive &amp; Sports</td>\n",
       "      <td>1</td>\n",
       "    </tr>\n",
       "    <tr>\n",
       "      <th>14</th>\n",
       "      <td>AEROSPACE</td>\n",
       "      <td>Automotive &amp; Sports</td>\n",
       "      <td>1</td>\n",
       "    </tr>\n",
       "    <tr>\n",
       "      <th>45</th>\n",
       "      <td>AUTO</td>\n",
       "      <td>Automotive &amp; Sports</td>\n",
       "      <td>1</td>\n",
       "    </tr>\n",
       "    <tr>\n",
       "      <th>46</th>\n",
       "      <td>AUTOMATED KIOSK</td>\n",
       "      <td>Automotive &amp; Sports</td>\n",
       "      <td>1</td>\n",
       "    </tr>\n",
       "    <tr>\n",
       "      <th>47</th>\n",
       "      <td>AUTOMOTIVE</td>\n",
       "      <td>Automotive &amp; Sports</td>\n",
       "      <td>1</td>\n",
       "    </tr>\n",
       "  </tbody>\n",
       "</table>\n",
       "</div>"
      ],
      "text/plain": [
       "       category_list          main_sector  value\n",
       "8   ADVENTURE TRAVEL  Automotive & Sports      1\n",
       "14         AEROSPACE  Automotive & Sports      1\n",
       "45              AUTO  Automotive & Sports      1\n",
       "46   AUTOMATED KIOSK  Automotive & Sports      1\n",
       "47        AUTOMOTIVE  Automotive & Sports      1"
      ]
     },
     "execution_count": 50,
     "metadata": {},
     "output_type": "execute_result"
    }
   ],
   "source": [
    "#Drop Value column as its of no use \n",
    "mappings.drop(columns=\"value\")\n",
    "mappings.head()"
   ]
  },
  {
   "cell_type": "code",
   "execution_count": 51,
   "metadata": {},
   "outputs": [
    {
     "data": {
      "text/html": [
       "<div>\n",
       "<style scoped>\n",
       "    .dataframe tbody tr th:only-of-type {\n",
       "        vertical-align: middle;\n",
       "    }\n",
       "\n",
       "    .dataframe tbody tr th {\n",
       "        vertical-align: top;\n",
       "    }\n",
       "\n",
       "    .dataframe thead th {\n",
       "        text-align: right;\n",
       "    }\n",
       "</style>\n",
       "<table border=\"1\" class=\"dataframe\">\n",
       "  <thead>\n",
       "    <tr style=\"text-align: right;\">\n",
       "      <th></th>\n",
       "      <th>permalink</th>\n",
       "      <th>name</th>\n",
       "      <th>status</th>\n",
       "      <th>country_code</th>\n",
       "      <th>funding_round_permalink</th>\n",
       "      <th>funding_round_type</th>\n",
       "      <th>funded_at</th>\n",
       "      <th>raised_amount_usd</th>\n",
       "      <th>sector</th>\n",
       "      <th>main_sector</th>\n",
       "      <th>value</th>\n",
       "    </tr>\n",
       "  </thead>\n",
       "  <tbody>\n",
       "    <tr>\n",
       "      <th>0</th>\n",
       "      <td>/ORGANIZATION/-FAME</td>\n",
       "      <td>#fame</td>\n",
       "      <td>operating</td>\n",
       "      <td>IND</td>\n",
       "      <td>/funding-round/9a01d05418af9f794eebff7ace91f638</td>\n",
       "      <td>venture</td>\n",
       "      <td>05-01-2015</td>\n",
       "      <td>10000000.0</td>\n",
       "      <td>MEDIA</td>\n",
       "      <td>Entertainment</td>\n",
       "      <td>1</td>\n",
       "    </tr>\n",
       "    <tr>\n",
       "      <th>1</th>\n",
       "      <td>/ORGANIZATION/90MIN</td>\n",
       "      <td>90min</td>\n",
       "      <td>operating</td>\n",
       "      <td>GBR</td>\n",
       "      <td>/funding-round/21a2cbf6f2fb2a1c2a61e04bf930dfe6</td>\n",
       "      <td>venture</td>\n",
       "      <td>06-10-2015</td>\n",
       "      <td>15000000.0</td>\n",
       "      <td>MEDIA</td>\n",
       "      <td>Entertainment</td>\n",
       "      <td>1</td>\n",
       "    </tr>\n",
       "    <tr>\n",
       "      <th>2</th>\n",
       "      <td>/ORGANIZATION/90MIN</td>\n",
       "      <td>90min</td>\n",
       "      <td>operating</td>\n",
       "      <td>GBR</td>\n",
       "      <td>/funding-round/bd626ed022f5c66574b1afe234f3c90d</td>\n",
       "      <td>venture</td>\n",
       "      <td>07-05-2013</td>\n",
       "      <td>5800000.0</td>\n",
       "      <td>MEDIA</td>\n",
       "      <td>Entertainment</td>\n",
       "      <td>1</td>\n",
       "    </tr>\n",
       "    <tr>\n",
       "      <th>3</th>\n",
       "      <td>/ORGANIZATION/90MIN</td>\n",
       "      <td>90min</td>\n",
       "      <td>operating</td>\n",
       "      <td>GBR</td>\n",
       "      <td>/funding-round/fd4b15e8c97ee2ffc0acccdbe1a98810</td>\n",
       "      <td>venture</td>\n",
       "      <td>26-03-2014</td>\n",
       "      <td>18000000.0</td>\n",
       "      <td>MEDIA</td>\n",
       "      <td>Entertainment</td>\n",
       "      <td>1</td>\n",
       "    </tr>\n",
       "    <tr>\n",
       "      <th>4</th>\n",
       "      <td>/ORGANIZATION/ALL-DEF-DIGITAL</td>\n",
       "      <td>All Def Digital</td>\n",
       "      <td>operating</td>\n",
       "      <td>USA</td>\n",
       "      <td>/funding-round/452a2342fe720285c3b92e9bd927d9ba</td>\n",
       "      <td>venture</td>\n",
       "      <td>06-08-2014</td>\n",
       "      <td>5000000.0</td>\n",
       "      <td>MEDIA</td>\n",
       "      <td>Entertainment</td>\n",
       "      <td>1</td>\n",
       "    </tr>\n",
       "  </tbody>\n",
       "</table>\n",
       "</div>"
      ],
      "text/plain": [
       "                       permalink             name     status country_code  \\\n",
       "0            /ORGANIZATION/-FAME            #fame  operating          IND   \n",
       "1            /ORGANIZATION/90MIN            90min  operating          GBR   \n",
       "2            /ORGANIZATION/90MIN            90min  operating          GBR   \n",
       "3            /ORGANIZATION/90MIN            90min  operating          GBR   \n",
       "4  /ORGANIZATION/ALL-DEF-DIGITAL  All Def Digital  operating          USA   \n",
       "\n",
       "                           funding_round_permalink funding_round_type  \\\n",
       "0  /funding-round/9a01d05418af9f794eebff7ace91f638            venture   \n",
       "1  /funding-round/21a2cbf6f2fb2a1c2a61e04bf930dfe6            venture   \n",
       "2  /funding-round/bd626ed022f5c66574b1afe234f3c90d            venture   \n",
       "3  /funding-round/fd4b15e8c97ee2ffc0acccdbe1a98810            venture   \n",
       "4  /funding-round/452a2342fe720285c3b92e9bd927d9ba            venture   \n",
       "\n",
       "    funded_at  raised_amount_usd sector    main_sector  value  \n",
       "0  05-01-2015         10000000.0  MEDIA  Entertainment      1  \n",
       "1  06-10-2015         15000000.0  MEDIA  Entertainment      1  \n",
       "2  07-05-2013          5800000.0  MEDIA  Entertainment      1  \n",
       "3  26-03-2014         18000000.0  MEDIA  Entertainment      1  \n",
       "4  06-08-2014          5000000.0  MEDIA  Entertainment      1  "
      ]
     },
     "execution_count": 51,
     "metadata": {},
     "output_type": "execute_result"
    }
   ],
   "source": [
    "venture_funding_mapping = pd.merge(top9,mappings,how='inner',left_on=\"sector\",right_on=\"category_list\")\n",
    "venture_funding_mapping.drop(['category_list_y','category_list_x'], axis='columns', inplace=True)\n",
    "venture_funding_mapping.head()"
   ]
  },
  {
   "cell_type": "code",
   "execution_count": 52,
   "metadata": {},
   "outputs": [
    {
     "data": {
      "text/plain": [
       "main_sector\n",
       "Others                                     10544\n",
       "Cleantech / Semiconductors                  9430\n",
       "Social, Finance, Analytics, Advertising     8785\n",
       "News, Search and Messaging                  5437\n",
       "Health                                      3769\n",
       "Manufacturing                               3063\n",
       "Entertainment                               2412\n",
       "Automotive & Sports                          662\n",
       "Name: main_sector, dtype: int64"
      ]
     },
     "execution_count": 52,
     "metadata": {},
     "output_type": "execute_result"
    }
   ],
   "source": [
    "venture_funding_mapping.groupby('main_sector')['main_sector'].count().sort_values(ascending = False)"
   ]
  },
  {
   "cell_type": "markdown",
   "metadata": {},
   "source": [
    "### Checkpoints - Part 2\n",
    "##### Checkpoint 5: Sector Analysis 2\n",
    "* Create three separate data frames D1, D2 and D3 for each of the three countries containing the observations of funding type FT falling within the 5-15 million USD range.\n",
    "* the three data frames should contain all the columns of the master_frame along with the main sector and the primary sector.\n",
    "* Using the three data frames, you can calculate the total number of investments and the total amount of investments in each main sector for each of the three countries."
   ]
  },
  {
   "cell_type": "code",
   "execution_count": 53,
   "metadata": {},
   "outputs": [],
   "source": [
    "venture_funding_mapping = venture_funding_mapping[(venture_funding_mapping['raised_amount_usd'] >= 5000000) & (venture_funding_mapping['raised_amount_usd'] <= 15000000)] "
   ]
  },
  {
   "cell_type": "code",
   "execution_count": 54,
   "metadata": {},
   "outputs": [],
   "source": [
    "D1=venture_funding_mapping[venture_funding_mapping['country_code']=='USA']\n",
    "D2=venture_funding_mapping[venture_funding_mapping['country_code']=='GBR']\n",
    "D3=venture_funding_mapping[venture_funding_mapping['country_code']=='IND']"
   ]
  },
  {
   "cell_type": "code",
   "execution_count": 55,
   "metadata": {
    "scrolled": true
   },
   "outputs": [
    {
     "data": {
      "text/html": [
       "<div>\n",
       "<style scoped>\n",
       "    .dataframe tbody tr th:only-of-type {\n",
       "        vertical-align: middle;\n",
       "    }\n",
       "\n",
       "    .dataframe tbody tr th {\n",
       "        vertical-align: top;\n",
       "    }\n",
       "\n",
       "    .dataframe thead th {\n",
       "        text-align: right;\n",
       "    }\n",
       "</style>\n",
       "<table border=\"1\" class=\"dataframe\">\n",
       "  <thead>\n",
       "    <tr style=\"text-align: right;\">\n",
       "      <th></th>\n",
       "      <th>permalink</th>\n",
       "      <th>name</th>\n",
       "      <th>status</th>\n",
       "      <th>country_code</th>\n",
       "      <th>funding_round_permalink</th>\n",
       "      <th>funding_round_type</th>\n",
       "      <th>funded_at</th>\n",
       "      <th>raised_amount_usd</th>\n",
       "      <th>sector</th>\n",
       "      <th>main_sector</th>\n",
       "      <th>value</th>\n",
       "    </tr>\n",
       "  </thead>\n",
       "  <tbody>\n",
       "    <tr>\n",
       "      <th>4</th>\n",
       "      <td>/ORGANIZATION/ALL-DEF-DIGITAL</td>\n",
       "      <td>All Def Digital</td>\n",
       "      <td>operating</td>\n",
       "      <td>USA</td>\n",
       "      <td>/funding-round/452a2342fe720285c3b92e9bd927d9ba</td>\n",
       "      <td>venture</td>\n",
       "      <td>06-08-2014</td>\n",
       "      <td>5000000.0</td>\n",
       "      <td>MEDIA</td>\n",
       "      <td>Entertainment</td>\n",
       "      <td>1</td>\n",
       "    </tr>\n",
       "    <tr>\n",
       "      <th>14</th>\n",
       "      <td>/ORGANIZATION/CHEFS-FEED</td>\n",
       "      <td>ChefsFeed</td>\n",
       "      <td>operating</td>\n",
       "      <td>USA</td>\n",
       "      <td>/funding-round/adca195749ae9ace84684723fbe75e5b</td>\n",
       "      <td>venture</td>\n",
       "      <td>26-02-2015</td>\n",
       "      <td>5000000.0</td>\n",
       "      <td>MEDIA</td>\n",
       "      <td>Entertainment</td>\n",
       "      <td>1</td>\n",
       "    </tr>\n",
       "    <tr>\n",
       "      <th>20</th>\n",
       "      <td>/ORGANIZATION/HUFFINGTONPOST</td>\n",
       "      <td>The Huffington Post</td>\n",
       "      <td>acquired</td>\n",
       "      <td>USA</td>\n",
       "      <td>/funding-round/7f05940c4d2dfecb8e50a0e5720e5065</td>\n",
       "      <td>venture</td>\n",
       "      <td>01-08-2006</td>\n",
       "      <td>5000000.0</td>\n",
       "      <td>MEDIA</td>\n",
       "      <td>Entertainment</td>\n",
       "      <td>1</td>\n",
       "    </tr>\n",
       "    <tr>\n",
       "      <th>21</th>\n",
       "      <td>/ORGANIZATION/HUFFINGTONPOST</td>\n",
       "      <td>The Huffington Post</td>\n",
       "      <td>acquired</td>\n",
       "      <td>USA</td>\n",
       "      <td>/funding-round/9241ae16e08df17ebdc064e49e23035a</td>\n",
       "      <td>venture</td>\n",
       "      <td>01-09-2007</td>\n",
       "      <td>5000000.0</td>\n",
       "      <td>MEDIA</td>\n",
       "      <td>Entertainment</td>\n",
       "      <td>1</td>\n",
       "    </tr>\n",
       "    <tr>\n",
       "      <th>26</th>\n",
       "      <td>/ORGANIZATION/MATCHMINE</td>\n",
       "      <td>MatchMine</td>\n",
       "      <td>closed</td>\n",
       "      <td>USA</td>\n",
       "      <td>/funding-round/41ac526630da57ad6eb9d02431b17657</td>\n",
       "      <td>venture</td>\n",
       "      <td>01-09-2007</td>\n",
       "      <td>10000000.0</td>\n",
       "      <td>MEDIA</td>\n",
       "      <td>Entertainment</td>\n",
       "      <td>1</td>\n",
       "    </tr>\n",
       "  </tbody>\n",
       "</table>\n",
       "</div>"
      ],
      "text/plain": [
       "                        permalink                 name     status  \\\n",
       "4   /ORGANIZATION/ALL-DEF-DIGITAL      All Def Digital  operating   \n",
       "14       /ORGANIZATION/CHEFS-FEED            ChefsFeed  operating   \n",
       "20   /ORGANIZATION/HUFFINGTONPOST  The Huffington Post   acquired   \n",
       "21   /ORGANIZATION/HUFFINGTONPOST  The Huffington Post   acquired   \n",
       "26        /ORGANIZATION/MATCHMINE            MatchMine     closed   \n",
       "\n",
       "   country_code                          funding_round_permalink  \\\n",
       "4           USA  /funding-round/452a2342fe720285c3b92e9bd927d9ba   \n",
       "14          USA  /funding-round/adca195749ae9ace84684723fbe75e5b   \n",
       "20          USA  /funding-round/7f05940c4d2dfecb8e50a0e5720e5065   \n",
       "21          USA  /funding-round/9241ae16e08df17ebdc064e49e23035a   \n",
       "26          USA  /funding-round/41ac526630da57ad6eb9d02431b17657   \n",
       "\n",
       "   funding_round_type   funded_at  raised_amount_usd sector    main_sector  \\\n",
       "4             venture  06-08-2014          5000000.0  MEDIA  Entertainment   \n",
       "14            venture  26-02-2015          5000000.0  MEDIA  Entertainment   \n",
       "20            venture  01-08-2006          5000000.0  MEDIA  Entertainment   \n",
       "21            venture  01-09-2007          5000000.0  MEDIA  Entertainment   \n",
       "26            venture  01-09-2007         10000000.0  MEDIA  Entertainment   \n",
       "\n",
       "    value  \n",
       "4       1  \n",
       "14      1  \n",
       "20      1  \n",
       "21      1  \n",
       "26      1  "
      ]
     },
     "execution_count": 55,
     "metadata": {},
     "output_type": "execute_result"
    }
   ],
   "source": [
    "D1.head()"
   ]
  },
  {
   "cell_type": "code",
   "execution_count": 56,
   "metadata": {
    "scrolled": true
   },
   "outputs": [
    {
     "data": {
      "text/html": [
       "<div>\n",
       "<style scoped>\n",
       "    .dataframe tbody tr th:only-of-type {\n",
       "        vertical-align: middle;\n",
       "    }\n",
       "\n",
       "    .dataframe tbody tr th {\n",
       "        vertical-align: top;\n",
       "    }\n",
       "\n",
       "    .dataframe thead th {\n",
       "        text-align: right;\n",
       "    }\n",
       "</style>\n",
       "<table border=\"1\" class=\"dataframe\">\n",
       "  <thead>\n",
       "    <tr style=\"text-align: right;\">\n",
       "      <th></th>\n",
       "      <th>permalink</th>\n",
       "      <th>name</th>\n",
       "      <th>status</th>\n",
       "      <th>country_code</th>\n",
       "      <th>funding_round_permalink</th>\n",
       "      <th>funding_round_type</th>\n",
       "      <th>funded_at</th>\n",
       "      <th>raised_amount_usd</th>\n",
       "      <th>sector</th>\n",
       "      <th>main_sector</th>\n",
       "      <th>value</th>\n",
       "    </tr>\n",
       "  </thead>\n",
       "  <tbody>\n",
       "    <tr>\n",
       "      <th>1</th>\n",
       "      <td>/ORGANIZATION/90MIN</td>\n",
       "      <td>90min</td>\n",
       "      <td>operating</td>\n",
       "      <td>GBR</td>\n",
       "      <td>/funding-round/21a2cbf6f2fb2a1c2a61e04bf930dfe6</td>\n",
       "      <td>venture</td>\n",
       "      <td>06-10-2015</td>\n",
       "      <td>15000000.0</td>\n",
       "      <td>MEDIA</td>\n",
       "      <td>Entertainment</td>\n",
       "      <td>1</td>\n",
       "    </tr>\n",
       "    <tr>\n",
       "      <th>2</th>\n",
       "      <td>/ORGANIZATION/90MIN</td>\n",
       "      <td>90min</td>\n",
       "      <td>operating</td>\n",
       "      <td>GBR</td>\n",
       "      <td>/funding-round/bd626ed022f5c66574b1afe234f3c90d</td>\n",
       "      <td>venture</td>\n",
       "      <td>07-05-2013</td>\n",
       "      <td>5800000.0</td>\n",
       "      <td>MEDIA</td>\n",
       "      <td>Entertainment</td>\n",
       "      <td>1</td>\n",
       "    </tr>\n",
       "    <tr>\n",
       "      <th>114</th>\n",
       "      <td>/ORGANIZATION/AZIMO</td>\n",
       "      <td>Azimo</td>\n",
       "      <td>operating</td>\n",
       "      <td>GBR</td>\n",
       "      <td>/funding-round/5eb768935cf9c60b402944b0f476baae</td>\n",
       "      <td>venture</td>\n",
       "      <td>11-03-2014</td>\n",
       "      <td>10000000.0</td>\n",
       "      <td>CURATED WEB</td>\n",
       "      <td>News, Search and Messaging</td>\n",
       "      <td>1</td>\n",
       "    </tr>\n",
       "    <tr>\n",
       "      <th>125</th>\n",
       "      <td>/ORGANIZATION/BASEKIT-PLATFORM</td>\n",
       "      <td>BaseKit</td>\n",
       "      <td>operating</td>\n",
       "      <td>GBR</td>\n",
       "      <td>/funding-round/8252cd70860ec66a1c7d13b6a2519dc6</td>\n",
       "      <td>venture</td>\n",
       "      <td>13-05-2014</td>\n",
       "      <td>7000000.0</td>\n",
       "      <td>CURATED WEB</td>\n",
       "      <td>News, Search and Messaging</td>\n",
       "      <td>1</td>\n",
       "    </tr>\n",
       "    <tr>\n",
       "      <th>126</th>\n",
       "      <td>/ORGANIZATION/BASEKIT-PLATFORM</td>\n",
       "      <td>BaseKit</td>\n",
       "      <td>operating</td>\n",
       "      <td>GBR</td>\n",
       "      <td>/funding-round/9ceb098a822fb971db490b23c1067336</td>\n",
       "      <td>venture</td>\n",
       "      <td>03-02-2014</td>\n",
       "      <td>6818631.0</td>\n",
       "      <td>CURATED WEB</td>\n",
       "      <td>News, Search and Messaging</td>\n",
       "      <td>1</td>\n",
       "    </tr>\n",
       "  </tbody>\n",
       "</table>\n",
       "</div>"
      ],
      "text/plain": [
       "                          permalink     name     status country_code  \\\n",
       "1               /ORGANIZATION/90MIN    90min  operating          GBR   \n",
       "2               /ORGANIZATION/90MIN    90min  operating          GBR   \n",
       "114             /ORGANIZATION/AZIMO    Azimo  operating          GBR   \n",
       "125  /ORGANIZATION/BASEKIT-PLATFORM  BaseKit  operating          GBR   \n",
       "126  /ORGANIZATION/BASEKIT-PLATFORM  BaseKit  operating          GBR   \n",
       "\n",
       "                             funding_round_permalink funding_round_type  \\\n",
       "1    /funding-round/21a2cbf6f2fb2a1c2a61e04bf930dfe6            venture   \n",
       "2    /funding-round/bd626ed022f5c66574b1afe234f3c90d            venture   \n",
       "114  /funding-round/5eb768935cf9c60b402944b0f476baae            venture   \n",
       "125  /funding-round/8252cd70860ec66a1c7d13b6a2519dc6            venture   \n",
       "126  /funding-round/9ceb098a822fb971db490b23c1067336            venture   \n",
       "\n",
       "      funded_at  raised_amount_usd       sector                 main_sector  \\\n",
       "1    06-10-2015         15000000.0        MEDIA               Entertainment   \n",
       "2    07-05-2013          5800000.0        MEDIA               Entertainment   \n",
       "114  11-03-2014         10000000.0  CURATED WEB  News, Search and Messaging   \n",
       "125  13-05-2014          7000000.0  CURATED WEB  News, Search and Messaging   \n",
       "126  03-02-2014          6818631.0  CURATED WEB  News, Search and Messaging   \n",
       "\n",
       "     value  \n",
       "1        1  \n",
       "2        1  \n",
       "114      1  \n",
       "125      1  \n",
       "126      1  "
      ]
     },
     "execution_count": 56,
     "metadata": {},
     "output_type": "execute_result"
    }
   ],
   "source": [
    "D2.head()"
   ]
  },
  {
   "cell_type": "code",
   "execution_count": 57,
   "metadata": {
    "scrolled": false
   },
   "outputs": [
    {
     "data": {
      "text/html": [
       "<div>\n",
       "<style scoped>\n",
       "    .dataframe tbody tr th:only-of-type {\n",
       "        vertical-align: middle;\n",
       "    }\n",
       "\n",
       "    .dataframe tbody tr th {\n",
       "        vertical-align: top;\n",
       "    }\n",
       "\n",
       "    .dataframe thead th {\n",
       "        text-align: right;\n",
       "    }\n",
       "</style>\n",
       "<table border=\"1\" class=\"dataframe\">\n",
       "  <thead>\n",
       "    <tr style=\"text-align: right;\">\n",
       "      <th></th>\n",
       "      <th>permalink</th>\n",
       "      <th>name</th>\n",
       "      <th>status</th>\n",
       "      <th>country_code</th>\n",
       "      <th>funding_round_permalink</th>\n",
       "      <th>funding_round_type</th>\n",
       "      <th>funded_at</th>\n",
       "      <th>raised_amount_usd</th>\n",
       "      <th>sector</th>\n",
       "      <th>main_sector</th>\n",
       "      <th>value</th>\n",
       "    </tr>\n",
       "  </thead>\n",
       "  <tbody>\n",
       "    <tr>\n",
       "      <th>0</th>\n",
       "      <td>/ORGANIZATION/-FAME</td>\n",
       "      <td>#fame</td>\n",
       "      <td>operating</td>\n",
       "      <td>IND</td>\n",
       "      <td>/funding-round/9a01d05418af9f794eebff7ace91f638</td>\n",
       "      <td>venture</td>\n",
       "      <td>05-01-2015</td>\n",
       "      <td>10000000.0</td>\n",
       "      <td>MEDIA</td>\n",
       "      <td>Entertainment</td>\n",
       "      <td>1</td>\n",
       "    </tr>\n",
       "    <tr>\n",
       "      <th>116</th>\n",
       "      <td>/ORGANIZATION/BABAJOB</td>\n",
       "      <td>Babajob</td>\n",
       "      <td>operating</td>\n",
       "      <td>IND</td>\n",
       "      <td>/funding-round/b72eaac5ea12ac0f50573ac3d6d46b8d</td>\n",
       "      <td>venture</td>\n",
       "      <td>28-04-2015</td>\n",
       "      <td>10000000.0</td>\n",
       "      <td>CURATED WEB</td>\n",
       "      <td>News, Search and Messaging</td>\n",
       "      <td>1</td>\n",
       "    </tr>\n",
       "    <tr>\n",
       "      <th>138</th>\n",
       "      <td>/ORGANIZATION/BHARAT-MATRIMONY</td>\n",
       "      <td>Bharat Matrimony</td>\n",
       "      <td>operating</td>\n",
       "      <td>IND</td>\n",
       "      <td>/funding-round/e37673bc7b0f1dfd3782f8f7abdb9ec8</td>\n",
       "      <td>venture</td>\n",
       "      <td>05-02-2008</td>\n",
       "      <td>11750000.0</td>\n",
       "      <td>CURATED WEB</td>\n",
       "      <td>News, Search and Messaging</td>\n",
       "      <td>1</td>\n",
       "    </tr>\n",
       "    <tr>\n",
       "      <th>167</th>\n",
       "      <td>/ORGANIZATION/BLUESTONE-COM</td>\n",
       "      <td>Bluestone.com</td>\n",
       "      <td>operating</td>\n",
       "      <td>IND</td>\n",
       "      <td>/funding-round/452a7fc1f34df2d3dcda4e28234bc671</td>\n",
       "      <td>venture</td>\n",
       "      <td>24-01-2012</td>\n",
       "      <td>5000000.0</td>\n",
       "      <td>CURATED WEB</td>\n",
       "      <td>News, Search and Messaging</td>\n",
       "      <td>1</td>\n",
       "    </tr>\n",
       "    <tr>\n",
       "      <th>169</th>\n",
       "      <td>/ORGANIZATION/BLUESTONE-COM</td>\n",
       "      <td>Bluestone.com</td>\n",
       "      <td>operating</td>\n",
       "      <td>IND</td>\n",
       "      <td>/funding-round/f5b252d6442ce231bb01586ca1821f63</td>\n",
       "      <td>venture</td>\n",
       "      <td>18-03-2014</td>\n",
       "      <td>10000000.0</td>\n",
       "      <td>CURATED WEB</td>\n",
       "      <td>News, Search and Messaging</td>\n",
       "      <td>1</td>\n",
       "    </tr>\n",
       "  </tbody>\n",
       "</table>\n",
       "</div>"
      ],
      "text/plain": [
       "                          permalink              name     status country_code  \\\n",
       "0               /ORGANIZATION/-FAME             #fame  operating          IND   \n",
       "116           /ORGANIZATION/BABAJOB           Babajob  operating          IND   \n",
       "138  /ORGANIZATION/BHARAT-MATRIMONY  Bharat Matrimony  operating          IND   \n",
       "167     /ORGANIZATION/BLUESTONE-COM     Bluestone.com  operating          IND   \n",
       "169     /ORGANIZATION/BLUESTONE-COM     Bluestone.com  operating          IND   \n",
       "\n",
       "                             funding_round_permalink funding_round_type  \\\n",
       "0    /funding-round/9a01d05418af9f794eebff7ace91f638            venture   \n",
       "116  /funding-round/b72eaac5ea12ac0f50573ac3d6d46b8d            venture   \n",
       "138  /funding-round/e37673bc7b0f1dfd3782f8f7abdb9ec8            venture   \n",
       "167  /funding-round/452a7fc1f34df2d3dcda4e28234bc671            venture   \n",
       "169  /funding-round/f5b252d6442ce231bb01586ca1821f63            venture   \n",
       "\n",
       "      funded_at  raised_amount_usd       sector                 main_sector  \\\n",
       "0    05-01-2015         10000000.0        MEDIA               Entertainment   \n",
       "116  28-04-2015         10000000.0  CURATED WEB  News, Search and Messaging   \n",
       "138  05-02-2008         11750000.0  CURATED WEB  News, Search and Messaging   \n",
       "167  24-01-2012          5000000.0  CURATED WEB  News, Search and Messaging   \n",
       "169  18-03-2014         10000000.0  CURATED WEB  News, Search and Messaging   \n",
       "\n",
       "     value  \n",
       "0        1  \n",
       "116      1  \n",
       "138      1  \n",
       "167      1  \n",
       "169      1  "
      ]
     },
     "execution_count": 57,
     "metadata": {},
     "output_type": "execute_result"
    }
   ],
   "source": [
    "D3.head()"
   ]
  },
  {
   "cell_type": "code",
   "execution_count": 58,
   "metadata": {},
   "outputs": [
    {
     "data": {
      "text/plain": [
       "main_sector\n",
       "Others                                     110\n",
       "Social, Finance, Analytics, Advertising     60\n",
       "News, Search and Messaging                  52\n",
       "Entertainment                               33\n",
       "Manufacturing                               21\n",
       "Cleantech / Semiconductors                  20\n",
       "Health                                      19\n",
       "Automotive & Sports                         13\n",
       "Name: main_sector, dtype: int64"
      ]
     },
     "execution_count": 58,
     "metadata": {},
     "output_type": "execute_result"
    }
   ],
   "source": [
    "D3.groupby('main_sector')['main_sector'].count().sort_values(ascending=False)"
   ]
  },
  {
   "cell_type": "markdown",
   "metadata": {},
   "source": [
    "#### 1. Total number of investments (count)"
   ]
  },
  {
   "cell_type": "code",
   "execution_count": 59,
   "metadata": {},
   "outputs": [
    {
     "data": {
      "text/plain": [
       "12063"
      ]
     },
     "execution_count": 59,
     "metadata": {},
     "output_type": "execute_result"
    }
   ],
   "source": [
    "D1.raised_amount_usd.count()"
   ]
  },
  {
   "cell_type": "code",
   "execution_count": 60,
   "metadata": {},
   "outputs": [
    {
     "data": {
      "text/plain": [
       "621"
      ]
     },
     "execution_count": 60,
     "metadata": {},
     "output_type": "execute_result"
    }
   ],
   "source": [
    "D2.raised_amount_usd.count()"
   ]
  },
  {
   "cell_type": "code",
   "execution_count": 61,
   "metadata": {},
   "outputs": [
    {
     "data": {
      "text/plain": [
       "328"
      ]
     },
     "execution_count": 61,
     "metadata": {},
     "output_type": "execute_result"
    }
   ],
   "source": [
    "D3.raised_amount_usd.count()"
   ]
  },
  {
   "cell_type": "markdown",
   "metadata": {},
   "source": [
    "#### 2. Total amount of investment (USD)"
   ]
  },
  {
   "cell_type": "code",
   "execution_count": 62,
   "metadata": {},
   "outputs": [
    {
     "data": {
      "text/plain": [
       "107757097294.0"
      ]
     },
     "execution_count": 62,
     "metadata": {},
     "output_type": "execute_result"
    }
   ],
   "source": [
    "D1.raised_amount_usd.sum()"
   ]
  },
  {
   "cell_type": "code",
   "execution_count": 63,
   "metadata": {},
   "outputs": [
    {
     "data": {
      "text/plain": [
       "5379078691.0"
      ]
     },
     "execution_count": 63,
     "metadata": {},
     "output_type": "execute_result"
    }
   ],
   "source": [
    "D2.raised_amount_usd.sum()"
   ]
  },
  {
   "cell_type": "code",
   "execution_count": 64,
   "metadata": {},
   "outputs": [
    {
     "data": {
      "text/plain": [
       "2949543602.0"
      ]
     },
     "execution_count": 64,
     "metadata": {},
     "output_type": "execute_result"
    }
   ],
   "source": [
    "D3.raised_amount_usd.sum()"
   ]
  },
  {
   "cell_type": "markdown",
   "metadata": {},
   "source": [
    "#### 3.  Top sector (based on count of investments)"
   ]
  },
  {
   "cell_type": "code",
   "execution_count": 65,
   "metadata": {},
   "outputs": [
    {
     "data": {
      "text/plain": [
       "'Others'"
      ]
     },
     "execution_count": 65,
     "metadata": {},
     "output_type": "execute_result"
    }
   ],
   "source": [
    "top_sector_D1=D1.groupby('main_sector')['main_sector'].count().sort_values(ascending=False).head(3).index[0]\n",
    "top_sector_D1"
   ]
  },
  {
   "cell_type": "code",
   "execution_count": 66,
   "metadata": {},
   "outputs": [
    {
     "data": {
      "text/plain": [
       "'Others'"
      ]
     },
     "execution_count": 66,
     "metadata": {},
     "output_type": "execute_result"
    }
   ],
   "source": [
    "top_sector_D2=D2.groupby('main_sector')['main_sector'].count().sort_values(ascending=False).head(3).index[0]\n",
    "top_sector_D2"
   ]
  },
  {
   "cell_type": "code",
   "execution_count": 67,
   "metadata": {},
   "outputs": [
    {
     "data": {
      "text/plain": [
       "'Others'"
      ]
     },
     "execution_count": 67,
     "metadata": {},
     "output_type": "execute_result"
    }
   ],
   "source": [
    "top_sector_D3=D3.groupby('main_sector')['main_sector'].count().sort_values(ascending=False).head(3).index[0]\n",
    "top_sector_D3"
   ]
  },
  {
   "cell_type": "markdown",
   "metadata": {},
   "source": [
    "#### 4.  Second-best sector (based on count of investments)"
   ]
  },
  {
   "cell_type": "code",
   "execution_count": 68,
   "metadata": {},
   "outputs": [
    {
     "data": {
      "text/plain": [
       "'Social, Finance, Analytics, Advertising'"
      ]
     },
     "execution_count": 68,
     "metadata": {},
     "output_type": "execute_result"
    }
   ],
   "source": [
    "sec_sector_D1=D1.groupby('main_sector')['main_sector'].count().sort_values(ascending=False).head(3).index[1]\n",
    "sec_sector_D1"
   ]
  },
  {
   "cell_type": "code",
   "execution_count": 69,
   "metadata": {},
   "outputs": [
    {
     "data": {
      "text/plain": [
       "'Social, Finance, Analytics, Advertising'"
      ]
     },
     "execution_count": 69,
     "metadata": {},
     "output_type": "execute_result"
    }
   ],
   "source": [
    "sec_sector_D2=D2.groupby('main_sector')['main_sector'].count().sort_values(ascending=False).head(3).index[1]\n",
    "sec_sector_D2"
   ]
  },
  {
   "cell_type": "code",
   "execution_count": 70,
   "metadata": {},
   "outputs": [
    {
     "data": {
      "text/plain": [
       "'Social, Finance, Analytics, Advertising'"
      ]
     },
     "execution_count": 70,
     "metadata": {},
     "output_type": "execute_result"
    }
   ],
   "source": [
    "sec_sector_D3=D3.groupby('main_sector')['main_sector'].count().sort_values(ascending=False).head(3).index[1]\n",
    "sec_sector_D3"
   ]
  },
  {
   "cell_type": "markdown",
   "metadata": {},
   "source": [
    "#### 5.  Third-best sector (based on count of investments)"
   ]
  },
  {
   "cell_type": "code",
   "execution_count": 71,
   "metadata": {},
   "outputs": [
    {
     "data": {
      "text/plain": [
       "'Cleantech / Semiconductors'"
      ]
     },
     "execution_count": 71,
     "metadata": {},
     "output_type": "execute_result"
    }
   ],
   "source": [
    "th_sector_D1=D1.groupby('main_sector')['main_sector'].count().sort_values(ascending=False).head(3).index[2]\n",
    "th_sector_D1"
   ]
  },
  {
   "cell_type": "code",
   "execution_count": 72,
   "metadata": {},
   "outputs": [
    {
     "data": {
      "text/plain": [
       "'Cleantech / Semiconductors'"
      ]
     },
     "execution_count": 72,
     "metadata": {},
     "output_type": "execute_result"
    }
   ],
   "source": [
    "th_sector_D2=D2.groupby('main_sector')['main_sector'].count().sort_values(ascending=False).head(3).index[2]\n",
    "th_sector_D2"
   ]
  },
  {
   "cell_type": "code",
   "execution_count": 73,
   "metadata": {},
   "outputs": [
    {
     "data": {
      "text/plain": [
       "'News, Search and Messaging'"
      ]
     },
     "execution_count": 73,
     "metadata": {},
     "output_type": "execute_result"
    }
   ],
   "source": [
    "th_sector_D3=D3.groupby('main_sector')['main_sector'].count().sort_values(ascending=False).head(3).index[2]\n",
    "th_sector_D3"
   ]
  },
  {
   "cell_type": "markdown",
   "metadata": {},
   "source": [
    "#### 6. Number of investments in the top sector (refer to point 3)"
   ]
  },
  {
   "cell_type": "code",
   "execution_count": 74,
   "metadata": {},
   "outputs": [
    {
     "data": {
      "text/plain": [
       "2950"
      ]
     },
     "execution_count": 74,
     "metadata": {},
     "output_type": "execute_result"
    }
   ],
   "source": [
    "D1[D1.main_sector == top_sector_D1].raised_amount_usd.count()"
   ]
  },
  {
   "cell_type": "code",
   "execution_count": 75,
   "metadata": {},
   "outputs": [
    {
     "data": {
      "text/plain": [
       "147"
      ]
     },
     "execution_count": 75,
     "metadata": {},
     "output_type": "execute_result"
    }
   ],
   "source": [
    "D2[D2.main_sector == top_sector_D2].raised_amount_usd.count()"
   ]
  },
  {
   "cell_type": "code",
   "execution_count": 76,
   "metadata": {
    "scrolled": true
   },
   "outputs": [
    {
     "data": {
      "text/plain": [
       "110"
      ]
     },
     "execution_count": 76,
     "metadata": {},
     "output_type": "execute_result"
    }
   ],
   "source": [
    "D3[D3.main_sector == top_sector_D3].raised_amount_usd.count()"
   ]
  },
  {
   "cell_type": "markdown",
   "metadata": {},
   "source": [
    "#### 7. Number of investments in the second-best sector (refer to point 4)"
   ]
  },
  {
   "cell_type": "code",
   "execution_count": 77,
   "metadata": {},
   "outputs": [
    {
     "data": {
      "text/plain": [
       "2714"
      ]
     },
     "execution_count": 77,
     "metadata": {},
     "output_type": "execute_result"
    }
   ],
   "source": [
    "D1[D1.main_sector == sec_sector_D1].raised_amount_usd.count()"
   ]
  },
  {
   "cell_type": "code",
   "execution_count": 78,
   "metadata": {},
   "outputs": [
    {
     "data": {
      "text/plain": [
       "133"
      ]
     },
     "execution_count": 78,
     "metadata": {},
     "output_type": "execute_result"
    }
   ],
   "source": [
    "D2[D2.main_sector == sec_sector_D2].raised_amount_usd.count()"
   ]
  },
  {
   "cell_type": "code",
   "execution_count": 79,
   "metadata": {
    "scrolled": true
   },
   "outputs": [
    {
     "data": {
      "text/plain": [
       "60"
      ]
     },
     "execution_count": 79,
     "metadata": {},
     "output_type": "execute_result"
    }
   ],
   "source": [
    "D3[D3.main_sector == sec_sector_D3].raised_amount_usd.count()"
   ]
  },
  {
   "cell_type": "markdown",
   "metadata": {},
   "source": [
    "#### 8. Number of investments in the third-best sector (refer to point 5)"
   ]
  },
  {
   "cell_type": "code",
   "execution_count": 80,
   "metadata": {},
   "outputs": [
    {
     "data": {
      "text/plain": [
       "2350"
      ]
     },
     "execution_count": 80,
     "metadata": {},
     "output_type": "execute_result"
    }
   ],
   "source": [
    "D1[D1.main_sector == th_sector_D1].raised_amount_usd.count()"
   ]
  },
  {
   "cell_type": "code",
   "execution_count": 81,
   "metadata": {},
   "outputs": [
    {
     "data": {
      "text/plain": [
       "130"
      ]
     },
     "execution_count": 81,
     "metadata": {},
     "output_type": "execute_result"
    }
   ],
   "source": [
    "D2[D2.main_sector == th_sector_D2].raised_amount_usd.count()"
   ]
  },
  {
   "cell_type": "code",
   "execution_count": 82,
   "metadata": {},
   "outputs": [
    {
     "data": {
      "text/plain": [
       "52"
      ]
     },
     "execution_count": 82,
     "metadata": {},
     "output_type": "execute_result"
    }
   ],
   "source": [
    "D3[D3.main_sector == th_sector_D3].raised_amount_usd.count()"
   ]
  },
  {
   "cell_type": "markdown",
   "metadata": {},
   "source": [
    "####  9. For the top sector count-wise (point 3), which company received the highest investment?"
   ]
  },
  {
   "cell_type": "code",
   "execution_count": 83,
   "metadata": {},
   "outputs": [
    {
     "data": {
      "text/plain": [
       "'Dataupia'"
      ]
     },
     "execution_count": 83,
     "metadata": {},
     "output_type": "execute_result"
    }
   ],
   "source": [
    "D1[D1.main_sector == top_sector_D1].sort_values('raised_amount_usd', ascending = False).head(1)['name'].values[0]"
   ]
  },
  {
   "cell_type": "code",
   "execution_count": 84,
   "metadata": {},
   "outputs": [
    {
     "data": {
      "text/plain": [
       "'Tribold'"
      ]
     },
     "execution_count": 84,
     "metadata": {},
     "output_type": "execute_result"
    }
   ],
   "source": [
    "D2[D2.main_sector == top_sector_D2].sort_values('raised_amount_usd', ascending = False).head(1)['name'].values[0]"
   ]
  },
  {
   "cell_type": "code",
   "execution_count": 85,
   "metadata": {},
   "outputs": [
    {
     "data": {
      "text/plain": [
       "'Tejas Networks India'"
      ]
     },
     "execution_count": 85,
     "metadata": {},
     "output_type": "execute_result"
    }
   ],
   "source": [
    "D3[D3.main_sector == top_sector_D3].sort_values('raised_amount_usd', ascending = False).head(1)['name'].values[0]"
   ]
  },
  {
   "cell_type": "markdown",
   "metadata": {},
   "source": [
    "####  10. For the second-best sector count-wise (point 4), which company received the highest investment?"
   ]
  },
  {
   "cell_type": "code",
   "execution_count": 86,
   "metadata": {},
   "outputs": [
    {
     "data": {
      "text/plain": [
       "'PowerReviews'"
      ]
     },
     "execution_count": 86,
     "metadata": {},
     "output_type": "execute_result"
    }
   ],
   "source": [
    "D1[D1.main_sector == sec_sector_D1].sort_values('raised_amount_usd', ascending = False).head(1)['name'].values[0]"
   ]
  },
  {
   "cell_type": "code",
   "execution_count": 87,
   "metadata": {},
   "outputs": [
    {
     "data": {
      "text/plain": [
       "'OpenGamma'"
      ]
     },
     "execution_count": 87,
     "metadata": {},
     "output_type": "execute_result"
    }
   ],
   "source": [
    "D2[D2.main_sector == sec_sector_D2].sort_values('raised_amount_usd', ascending = False).head(1)['name'].values[0]"
   ]
  },
  {
   "cell_type": "code",
   "execution_count": 88,
   "metadata": {},
   "outputs": [
    {
     "data": {
      "text/plain": [
       "'Shiram Credit'"
      ]
     },
     "execution_count": 88,
     "metadata": {},
     "output_type": "execute_result"
    }
   ],
   "source": [
    "D3[D3.main_sector == sec_sector_D3].sort_values('raised_amount_usd', ascending = False).head(1)['name'].values[0]"
   ]
  },
  {
   "cell_type": "markdown",
   "metadata": {},
   "source": [
    "### Checkpoints - Part 2\n",
    "##### Checkpoint 6: Plots\n",
    "\n",
    "* A plot showing the fraction of total investments (globally) in `angel`, `venture`, `seed`, and `private equity` and the average amount of investment in each funding type\n",
    "**_Steps followed:_** \n",
    "1. funding_round_type DataFrame of 4 funding types as instructed with sum of `raised_amount_usd`\n",
    "2. Created two subplots as below:\n",
    "> 1st as `bar` chart for `Average Amount of Investment` using `funding_round_type` only\n",
    "> 2nd as `pie` chart for `Fraction of Total Investments(globally)` using DataFrame created\n",
    "        \n",
    "#### Charts makes it very clear that `'Venture'` funding type is best suited for Spark Funds as it has average investment amount range between 5 m to 15 m USD    "
   ]
  },
  {
   "cell_type": "code",
   "execution_count": 89,
   "metadata": {
    "scrolled": true
   },
   "outputs": [
    {
     "data": {
      "text/plain": [
       "funding_round_type\n",
       "angel             4.659255e+09\n",
       "private_equity    1.419254e+11\n",
       "seed              1.698824e+10\n",
       "venture           5.901262e+11\n",
       "Name: raised_amount_usd, dtype: float64"
      ]
     },
     "execution_count": 89,
     "metadata": {},
     "output_type": "execute_result"
    }
   ],
   "source": [
    "pie_plot = funding_round_type.groupby('funding_round_type')['raised_amount_usd'].sum()\n",
    "pie_plot"
   ]
  },
  {
   "cell_type": "code",
   "execution_count": 90,
   "metadata": {
    "scrolled": true
   },
   "outputs": [
    {
     "data": {
      "image/png": "[encoded data removed]",
      "text/plain": [
       "<Figure size 1320x1320 with 2 Axes>"
      ]
     },
     "metadata": {},
     "output_type": "display_data"
    }
   ],
   "source": [
    "import matplotlib.pyplot as plt\n",
    "import seaborn as sns\n",
    "\n",
    "plt.figure(figsize=[11,11],dpi=120,edgecolor='c')\n",
    "# subplot 1 - Average Amount of Investment\n",
    "plt.subplot(221)\n",
    "sns.barplot(x=master_frame['funding_round_type'],y=master_frame['raised_amount_usd']/1000000,estimator=np.mean,order=[\"angle\",\"seed\",\"venture\",\"private_equity\"],ci=None)\n",
    "plt.ylabel(\"raised_amount_usd (in millions)\")\n",
    "plt.axhline(5, color='green')\n",
    "plt.axhline(15, color='red')\n",
    "plt.title(\"Average Amount of Investement\") \n",
    "\n",
    "# subplot 1 - Fraction of Total Investments(globally)\n",
    "plt.subplot(222)\n",
    "plt.title('Fraction of Total Investments')\n",
    "# Data to plot\n",
    "labels = ['angle', 'venture', 'seed', 'private_equity']\n",
    "colors = ['gold', 'yellowgreen', 'lightcoral', 'lightskyblue']\n",
    "# Plot\n",
    "plt.pie(pie_plot, labels=labels, colors=colors,autopct='%1.2f%%', startangle=55)\n",
    "\n",
    "plt.show()"
   ]
  },
  {
   "cell_type": "markdown",
   "metadata": {},
   "source": [
    "A plot showing the top 9 countries against the total amount of investments of funding type Venture    \n",
    "1. top9 a DataFrame with Country code and English Speaking Flag as per wiki page provided for top 9 countries\n",
    "2. Joined top9 and English_Speaking DataFrames  \n",
    "3. Used a `bivariate bar plot` graph to show `Total Invenstment Amount` (Y-Axis) for `Top 9 Countries` (X-Axis) with hue as `English Speaking Country Flag`\n",
    "    \n",
    "#### This makes it very clear that the top 3 English speaking countries with highest investment"
   ]
  },
  {
   "cell_type": "code",
   "execution_count": 99,
   "metadata": {},
   "outputs": [
    {
     "data": {
      "text/html": [
       "<div>\n",
       "<style scoped>\n",
       "    .dataframe tbody tr th:only-of-type {\n",
       "        vertical-align: middle;\n",
       "    }\n",
       "\n",
       "    .dataframe tbody tr th {\n",
       "        vertical-align: top;\n",
       "    }\n",
       "\n",
       "    .dataframe thead th {\n",
       "        text-align: right;\n",
       "    }\n",
       "</style>\n",
       "<table border=\"1\" class=\"dataframe\">\n",
       "  <thead>\n",
       "    <tr style=\"text-align: right;\">\n",
       "      <th></th>\n",
       "      <th>country_code</th>\n",
       "      <th>English_Speaking_Flag</th>\n",
       "    </tr>\n",
       "  </thead>\n",
       "  <tbody>\n",
       "    <tr>\n",
       "      <th>0</th>\n",
       "      <td>USA</td>\n",
       "      <td>Y</td>\n",
       "    </tr>\n",
       "    <tr>\n",
       "      <th>1</th>\n",
       "      <td>CHN</td>\n",
       "      <td>N</td>\n",
       "    </tr>\n",
       "    <tr>\n",
       "      <th>2</th>\n",
       "      <td>GBR</td>\n",
       "      <td>Y</td>\n",
       "    </tr>\n",
       "    <tr>\n",
       "      <th>3</th>\n",
       "      <td>IND</td>\n",
       "      <td>Y</td>\n",
       "    </tr>\n",
       "    <tr>\n",
       "      <th>4</th>\n",
       "      <td>CAN</td>\n",
       "      <td>Y</td>\n",
       "    </tr>\n",
       "    <tr>\n",
       "      <th>5</th>\n",
       "      <td>FRA</td>\n",
       "      <td>N</td>\n",
       "    </tr>\n",
       "    <tr>\n",
       "      <th>6</th>\n",
       "      <td>ISR</td>\n",
       "      <td>Y</td>\n",
       "    </tr>\n",
       "    <tr>\n",
       "      <th>7</th>\n",
       "      <td>DEU</td>\n",
       "      <td>N</td>\n",
       "    </tr>\n",
       "    <tr>\n",
       "      <th>8</th>\n",
       "      <td>JPN</td>\n",
       "      <td>N</td>\n",
       "    </tr>\n",
       "  </tbody>\n",
       "</table>\n",
       "</div>"
      ],
      "text/plain": [
       "  country_code English_Speaking_Flag\n",
       "0          USA                     Y\n",
       "1          CHN                     N\n",
       "2          GBR                     Y\n",
       "3          IND                     Y\n",
       "4          CAN                     Y\n",
       "5          FRA                     N\n",
       "6          ISR                     Y\n",
       "7          DEU                     N\n",
       "8          JPN                     N"
      ]
     },
     "execution_count": 99,
     "metadata": {},
     "output_type": "execute_result"
    }
   ],
   "source": [
    "English_Speaking=pd.DataFrame({'country_code': ['USA','CHN','GBR','IND','CAN','FRA','ISR','DEU','JPN'],\n",
    "                                'English_Speaking_Flag': ['Y','N','Y','Y','Y','N','Y','N','N']})\n",
    "English_Speaking.head(9)"
   ]
  },
  {
   "cell_type": "code",
   "execution_count": 92,
   "metadata": {
    "scrolled": true
   },
   "outputs": [
    {
     "data": {
      "text/html": [
       "<div>\n",
       "<style scoped>\n",
       "    .dataframe tbody tr th:only-of-type {\n",
       "        vertical-align: middle;\n",
       "    }\n",
       "\n",
       "    .dataframe tbody tr th {\n",
       "        vertical-align: top;\n",
       "    }\n",
       "\n",
       "    .dataframe thead th {\n",
       "        text-align: right;\n",
       "    }\n",
       "</style>\n",
       "<table border=\"1\" class=\"dataframe\">\n",
       "  <thead>\n",
       "    <tr style=\"text-align: right;\">\n",
       "      <th></th>\n",
       "      <th>permalink</th>\n",
       "      <th>name</th>\n",
       "      <th>category_list</th>\n",
       "      <th>status</th>\n",
       "      <th>country_code</th>\n",
       "      <th>funding_round_permalink</th>\n",
       "      <th>funding_round_type</th>\n",
       "      <th>funded_at</th>\n",
       "      <th>raised_amount_usd</th>\n",
       "      <th>sector</th>\n",
       "      <th>English_Speaking_Flag</th>\n",
       "    </tr>\n",
       "  </thead>\n",
       "  <tbody>\n",
       "    <tr>\n",
       "      <th>0</th>\n",
       "      <td>/ORGANIZATION/-FAME</td>\n",
       "      <td>#fame</td>\n",
       "      <td>Media</td>\n",
       "      <td>operating</td>\n",
       "      <td>IND</td>\n",
       "      <td>/funding-round/9a01d05418af9f794eebff7ace91f638</td>\n",
       "      <td>venture</td>\n",
       "      <td>05-01-2015</td>\n",
       "      <td>10000000.0</td>\n",
       "      <td>MEDIA</td>\n",
       "      <td>Y</td>\n",
       "    </tr>\n",
       "    <tr>\n",
       "      <th>1</th>\n",
       "      <td>/ORGANIZATION/21DIAMONDS-INDIA</td>\n",
       "      <td>21Diamonds</td>\n",
       "      <td>E-Commerce</td>\n",
       "      <td>operating</td>\n",
       "      <td>IND</td>\n",
       "      <td>/funding-round/6de7ffef8091ba9f33821f4b861f434a</td>\n",
       "      <td>venture</td>\n",
       "      <td>15-11-2012</td>\n",
       "      <td>6369507.0</td>\n",
       "      <td>E-COMMERCE</td>\n",
       "      <td>Y</td>\n",
       "    </tr>\n",
       "    <tr>\n",
       "      <th>2</th>\n",
       "      <td>/ORGANIZATION/247-LEARNING-PRIVATE</td>\n",
       "      <td>24x7 Learning</td>\n",
       "      <td>EdTech|Education|Systems</td>\n",
       "      <td>operating</td>\n",
       "      <td>IND</td>\n",
       "      <td>/funding-round/4cd5cd165bc869bc40705a9e4b626bee</td>\n",
       "      <td>venture</td>\n",
       "      <td>06-11-2007</td>\n",
       "      <td>4000000.0</td>\n",
       "      <td>EDTECH</td>\n",
       "      <td>Y</td>\n",
       "    </tr>\n",
       "    <tr>\n",
       "      <th>3</th>\n",
       "      <td>/ORGANIZATION/3DSOC</td>\n",
       "      <td>3DSoC</td>\n",
       "      <td>3D|Mobile</td>\n",
       "      <td>operating</td>\n",
       "      <td>IND</td>\n",
       "      <td>/funding-round/bbedf1410fddeed341018583bbd0ca1e</td>\n",
       "      <td>venture</td>\n",
       "      <td>01-12-2007</td>\n",
       "      <td>1240000.0</td>\n",
       "      <td>3D</td>\n",
       "      <td>Y</td>\n",
       "    </tr>\n",
       "    <tr>\n",
       "      <th>4</th>\n",
       "      <td>/ORGANIZATION/3DSOC</td>\n",
       "      <td>3DSoC</td>\n",
       "      <td>3D|Mobile</td>\n",
       "      <td>operating</td>\n",
       "      <td>IND</td>\n",
       "      <td>/funding-round/da8918e533a7caf0df0dc8d3f506c0f8</td>\n",
       "      <td>venture</td>\n",
       "      <td>01-08-2010</td>\n",
       "      <td>825000.0</td>\n",
       "      <td>3D</td>\n",
       "      <td>Y</td>\n",
       "    </tr>\n",
       "    <tr>\n",
       "      <th>5</th>\n",
       "      <td>/ORGANIZATION/A-LITTLE-WORLD</td>\n",
       "      <td>A LITTLE WORLD</td>\n",
       "      <td>Finance</td>\n",
       "      <td>operating</td>\n",
       "      <td>IND</td>\n",
       "      <td>/funding-round/18d98f82ed392b1609975b81f3e8b3fb</td>\n",
       "      <td>venture</td>\n",
       "      <td>09-09-2008</td>\n",
       "      <td>6410000.0</td>\n",
       "      <td>FINANCE</td>\n",
       "      <td>Y</td>\n",
       "    </tr>\n",
       "    <tr>\n",
       "      <th>6</th>\n",
       "      <td>/ORGANIZATION/ACB-INDIA-LIMITED</td>\n",
       "      <td>ACB (India) Limited</td>\n",
       "      <td>Energy|Mining Technologies</td>\n",
       "      <td>operating</td>\n",
       "      <td>IND</td>\n",
       "      <td>/funding-round/e8be4d4069d490218db8008f4aefa0f0</td>\n",
       "      <td>venture</td>\n",
       "      <td>31-03-2008</td>\n",
       "      <td>25090000.0</td>\n",
       "      <td>ENERGY</td>\n",
       "      <td>Y</td>\n",
       "    </tr>\n",
       "    <tr>\n",
       "      <th>7</th>\n",
       "      <td>/ORGANIZATION/ADLABS-IMAGICA</td>\n",
       "      <td>Adlabs Imagica</td>\n",
       "      <td>Entertainment|Tourism</td>\n",
       "      <td>operating</td>\n",
       "      <td>IND</td>\n",
       "      <td>/funding-round/508d3c83daaae9fda3ba6f9682c78f6c</td>\n",
       "      <td>venture</td>\n",
       "      <td>28-10-2014</td>\n",
       "      <td>8180000.0</td>\n",
       "      <td>ENTERTAINMENT</td>\n",
       "      <td>Y</td>\n",
       "    </tr>\n",
       "    <tr>\n",
       "      <th>8</th>\n",
       "      <td>/ORGANIZATION/AGILE</td>\n",
       "      <td>Agile</td>\n",
       "      <td>Finance|Finance Technology|FinTech|Insurance</td>\n",
       "      <td>operating</td>\n",
       "      <td>IND</td>\n",
       "      <td>/funding-round/cd3dd1c98ce9d0f632d8752163941674</td>\n",
       "      <td>venture</td>\n",
       "      <td>01-05-2011</td>\n",
       "      <td>5740000.0</td>\n",
       "      <td>FINANCE</td>\n",
       "      <td>Y</td>\n",
       "    </tr>\n",
       "  </tbody>\n",
       "</table>\n",
       "</div>"
      ],
      "text/plain": [
       "                            permalink                 name  \\\n",
       "0                 /ORGANIZATION/-FAME                #fame   \n",
       "1      /ORGANIZATION/21DIAMONDS-INDIA           21Diamonds   \n",
       "2  /ORGANIZATION/247-LEARNING-PRIVATE        24x7 Learning   \n",
       "3                 /ORGANIZATION/3DSOC                3DSoC   \n",
       "4                 /ORGANIZATION/3DSOC                3DSoC   \n",
       "5        /ORGANIZATION/A-LITTLE-WORLD       A LITTLE WORLD   \n",
       "6     /ORGANIZATION/ACB-INDIA-LIMITED  ACB (India) Limited   \n",
       "7        /ORGANIZATION/ADLABS-IMAGICA       Adlabs Imagica   \n",
       "8                 /ORGANIZATION/AGILE                Agile   \n",
       "\n",
       "                                  category_list     status country_code  \\\n",
       "0                                         Media  operating          IND   \n",
       "1                                    E-Commerce  operating          IND   \n",
       "2                      EdTech|Education|Systems  operating          IND   \n",
       "3                                     3D|Mobile  operating          IND   \n",
       "4                                     3D|Mobile  operating          IND   \n",
       "5                                       Finance  operating          IND   \n",
       "6                    Energy|Mining Technologies  operating          IND   \n",
       "7                         Entertainment|Tourism  operating          IND   \n",
       "8  Finance|Finance Technology|FinTech|Insurance  operating          IND   \n",
       "\n",
       "                           funding_round_permalink funding_round_type  \\\n",
       "0  /funding-round/9a01d05418af9f794eebff7ace91f638            venture   \n",
       "1  /funding-round/6de7ffef8091ba9f33821f4b861f434a            venture   \n",
       "2  /funding-round/4cd5cd165bc869bc40705a9e4b626bee            venture   \n",
       "3  /funding-round/bbedf1410fddeed341018583bbd0ca1e            venture   \n",
       "4  /funding-round/da8918e533a7caf0df0dc8d3f506c0f8            venture   \n",
       "5  /funding-round/18d98f82ed392b1609975b81f3e8b3fb            venture   \n",
       "6  /funding-round/e8be4d4069d490218db8008f4aefa0f0            venture   \n",
       "7  /funding-round/508d3c83daaae9fda3ba6f9682c78f6c            venture   \n",
       "8  /funding-round/cd3dd1c98ce9d0f632d8752163941674            venture   \n",
       "\n",
       "    funded_at  raised_amount_usd         sector English_Speaking_Flag  \n",
       "0  05-01-2015         10000000.0          MEDIA                     Y  \n",
       "1  15-11-2012          6369507.0     E-COMMERCE                     Y  \n",
       "2  06-11-2007          4000000.0         EDTECH                     Y  \n",
       "3  01-12-2007          1240000.0             3D                     Y  \n",
       "4  01-08-2010           825000.0             3D                     Y  \n",
       "5  09-09-2008          6410000.0        FINANCE                     Y  \n",
       "6  31-03-2008         25090000.0         ENERGY                     Y  \n",
       "7  28-10-2014          8180000.0  ENTERTAINMENT                     Y  \n",
       "8  01-05-2011          5740000.0        FINANCE                     Y  "
      ]
     },
     "execution_count": 92,
     "metadata": {},
     "output_type": "execute_result"
    }
   ],
   "source": [
    "top9=pd.merge(top9,English_Speaking,how='inner',on='country_code')\n",
    "top9.head(9)"
   ]
  },
  {
   "cell_type": "code",
   "execution_count": 93,
   "metadata": {},
   "outputs": [
    {
     "data": {
      "text/plain": [
       "country_code\n",
       "CAN    9.583332e+09\n",
       "CHN    3.983542e+10\n",
       "DEU    6.346960e+09\n",
       "FRA    7.259537e+09\n",
       "GBR    2.024563e+10\n",
       "IND    1.439186e+10\n",
       "ISR    6.907515e+09\n",
       "JPN    3.363677e+09\n",
       "USA    4.225108e+11\n",
       "Name: raised_amount_usd, dtype: float64"
      ]
     },
     "execution_count": 93,
     "metadata": {},
     "output_type": "execute_result"
    }
   ],
   "source": [
    "top9.groupby('country_code')['raised_amount_usd'].sum()"
   ]
  },
  {
   "cell_type": "code",
   "execution_count": 94,
   "metadata": {
    "scrolled": true
   },
   "outputs": [
    {
     "data": {
      "image/png": "[encoded data removed]",
      "text/plain": [
       "<Figure size 1200x600 with 1 Axes>"
      ]
     },
     "metadata": {},
     "output_type": "display_data"
    }
   ],
   "source": [
    "plt.figure(figsize=[10.0,5.0],dpi=120,frameon=True)\n",
    "sns.barplot(x=top9['country_code'],y=top9['raised_amount_usd']/1000000000,estimator=np.sum,hue=top9['English_Speaking_Flag'],ci=None)\n",
    "plt.ylabel(\"raised_amount_usd (in millions)\")\n",
    "plt.title(\"Total Amount of Investement for Top 9 Countries\") \n",
    "plt.show()"
   ]
  },
  {
   "cell_type": "markdown",
   "metadata": {},
   "source": [
    "### A plot showing the number of investments in the top 3 sectors of the top 3 countries on one chart for the chosen investment type of Venture\n",
    "1. Reset Index of Total Investment DataFrames for top 3 Countries for easy plotting\n",
    "2. Took top 3 main sectors by highest Total Investment Count for each Country \n",
    "3. Added `Country` Column in each Country DataFrame for bivariate bar plotting of sectors and countries\n",
    "4. Outer Joined all the 3 Countries DataFrames so total 9 entries will there for top 3 sectors or top 3 Countries\n",
    "5. Used a `bivariate bar plot` graph to show `Total Invenstment Count` (Y-Axis) for `Top 3 Countries` (X-Axis) with hue as `Main-Sector`"
   ]
  },
  {
   "cell_type": "code",
   "execution_count": 95,
   "metadata": {},
   "outputs": [
    {
     "data": {
      "text/html": [
       "<div>\n",
       "<style scoped>\n",
       "    .dataframe tbody tr th:only-of-type {\n",
       "        vertical-align: middle;\n",
       "    }\n",
       "\n",
       "    .dataframe tbody tr th {\n",
       "        vertical-align: top;\n",
       "    }\n",
       "\n",
       "    .dataframe thead th {\n",
       "        text-align: right;\n",
       "    }\n",
       "</style>\n",
       "<table border=\"1\" class=\"dataframe\">\n",
       "  <thead>\n",
       "    <tr style=\"text-align: right;\">\n",
       "      <th></th>\n",
       "      <th>permalink</th>\n",
       "      <th>name</th>\n",
       "      <th>status</th>\n",
       "      <th>country_code</th>\n",
       "      <th>funding_round_permalink</th>\n",
       "      <th>funding_round_type</th>\n",
       "      <th>funded_at</th>\n",
       "      <th>raised_amount_usd</th>\n",
       "      <th>sector</th>\n",
       "      <th>main_sector</th>\n",
       "      <th>value</th>\n",
       "    </tr>\n",
       "  </thead>\n",
       "  <tbody>\n",
       "    <tr>\n",
       "      <th>1249</th>\n",
       "      <td>/ORGANIZATION/22ND-CENTURY-GROUP</td>\n",
       "      <td>22nd Century Group</td>\n",
       "      <td>ipo</td>\n",
       "      <td>USA</td>\n",
       "      <td>/funding-round/50617d7ea8eaa838e2fd8eb8dfe06054</td>\n",
       "      <td>venture</td>\n",
       "      <td>18-09-2014</td>\n",
       "      <td>10000000.0</td>\n",
       "      <td>BIOTECHNOLOGY</td>\n",
       "      <td>Cleantech / Semiconductors</td>\n",
       "      <td>1</td>\n",
       "    </tr>\n",
       "    <tr>\n",
       "      <th>1254</th>\n",
       "      <td>/ORGANIZATION/23ANDME</td>\n",
       "      <td>23andMe</td>\n",
       "      <td>operating</td>\n",
       "      <td>USA</td>\n",
       "      <td>/funding-round/97062e0d50c2955cbe40bf8220d87b08</td>\n",
       "      <td>venture</td>\n",
       "      <td>07-01-2011</td>\n",
       "      <td>9000000.0</td>\n",
       "      <td>BIOTECHNOLOGY</td>\n",
       "      <td>Cleantech / Semiconductors</td>\n",
       "      <td>1</td>\n",
       "    </tr>\n",
       "    <tr>\n",
       "      <th>1255</th>\n",
       "      <td>/ORGANIZATION/23ANDME</td>\n",
       "      <td>23andMe</td>\n",
       "      <td>operating</td>\n",
       "      <td>USA</td>\n",
       "      <td>/funding-round/c27c1b420dfb34677a6ba449524f1c88</td>\n",
       "      <td>venture</td>\n",
       "      <td>18-06-2009</td>\n",
       "      <td>12600000.0</td>\n",
       "      <td>BIOTECHNOLOGY</td>\n",
       "      <td>Cleantech / Semiconductors</td>\n",
       "      <td>1</td>\n",
       "    </tr>\n",
       "    <tr>\n",
       "      <th>1257</th>\n",
       "      <td>/ORGANIZATION/23ANDME</td>\n",
       "      <td>23andMe</td>\n",
       "      <td>operating</td>\n",
       "      <td>USA</td>\n",
       "      <td>/funding-round/f261366b4fbf1840ad71b20ea0d9c7ce</td>\n",
       "      <td>venture</td>\n",
       "      <td>03-10-2007</td>\n",
       "      <td>9000000.0</td>\n",
       "      <td>BIOTECHNOLOGY</td>\n",
       "      <td>Cleantech / Semiconductors</td>\n",
       "      <td>1</td>\n",
       "    </tr>\n",
       "    <tr>\n",
       "      <th>1259</th>\n",
       "      <td>/ORGANIZATION/3-V-BIOSCIENCES</td>\n",
       "      <td>3-V Biosciences</td>\n",
       "      <td>operating</td>\n",
       "      <td>USA</td>\n",
       "      <td>/funding-round/069e2f1ded2f499d232c3d7ec762c0e2</td>\n",
       "      <td>venture</td>\n",
       "      <td>17-03-2015</td>\n",
       "      <td>14278567.0</td>\n",
       "      <td>BIOTECHNOLOGY</td>\n",
       "      <td>Cleantech / Semiconductors</td>\n",
       "      <td>1</td>\n",
       "    </tr>\n",
       "    <tr>\n",
       "      <th>...</th>\n",
       "      <td>...</td>\n",
       "      <td>...</td>\n",
       "      <td>...</td>\n",
       "      <td>...</td>\n",
       "      <td>...</td>\n",
       "      <td>...</td>\n",
       "      <td>...</td>\n",
       "      <td>...</td>\n",
       "      <td>...</td>\n",
       "      <td>...</td>\n",
       "      <td>...</td>\n",
       "    </tr>\n",
       "    <tr>\n",
       "      <th>44079</th>\n",
       "      <td>/ORGANIZATION/THREDHQ</td>\n",
       "      <td>Thredhq</td>\n",
       "      <td>operating</td>\n",
       "      <td>USA</td>\n",
       "      <td>/funding-round/54166cbfbb75fb604c17a94f2205570e</td>\n",
       "      <td>venture</td>\n",
       "      <td>18-09-2013</td>\n",
       "      <td>5000000.0</td>\n",
       "      <td>SOCIAL + MOBILE + LOCAL</td>\n",
       "      <td>Social, Finance, Analytics, Advertising</td>\n",
       "      <td>1</td>\n",
       "    </tr>\n",
       "    <tr>\n",
       "      <th>44084</th>\n",
       "      <td>/ORGANIZATION/WIZROCKET-TECHNOLOGIES</td>\n",
       "      <td>CleverTap</td>\n",
       "      <td>operating</td>\n",
       "      <td>USA</td>\n",
       "      <td>/funding-round/195738852853780cc8f1220ba6fb761d</td>\n",
       "      <td>venture</td>\n",
       "      <td>03-08-2015</td>\n",
       "      <td>8000000.0</td>\n",
       "      <td>CONSUMER BEHAVIOR</td>\n",
       "      <td>Social, Finance, Analytics, Advertising</td>\n",
       "      <td>1</td>\n",
       "    </tr>\n",
       "    <tr>\n",
       "      <th>44088</th>\n",
       "      <td>/ORGANIZATION/USER-INTERFACE</td>\n",
       "      <td>User Interface</td>\n",
       "      <td>operating</td>\n",
       "      <td>USA</td>\n",
       "      <td>/funding-round/ade267714c6ee533323f46a25b2db237</td>\n",
       "      <td>venture</td>\n",
       "      <td>24-01-2001</td>\n",
       "      <td>8250000.0</td>\n",
       "      <td>USER INTERFACE</td>\n",
       "      <td>Others</td>\n",
       "      <td>1</td>\n",
       "    </tr>\n",
       "    <tr>\n",
       "      <th>44090</th>\n",
       "      <td>/ORGANIZATION/WASHIO</td>\n",
       "      <td>Washio</td>\n",
       "      <td>operating</td>\n",
       "      <td>USA</td>\n",
       "      <td>/funding-round/59026d26012c63b42fa2984c8f3c41ec</td>\n",
       "      <td>venture</td>\n",
       "      <td>09-06-2014</td>\n",
       "      <td>10500000.0</td>\n",
       "      <td>SERVICE INDUSTRIES</td>\n",
       "      <td>Others</td>\n",
       "      <td>1</td>\n",
       "    </tr>\n",
       "    <tr>\n",
       "      <th>44094</th>\n",
       "      <td>/ORGANIZATION/YAPTA</td>\n",
       "      <td>Yapta</td>\n",
       "      <td>operating</td>\n",
       "      <td>USA</td>\n",
       "      <td>/funding-round/2bef2981d0db9747630882cc91e42ba5</td>\n",
       "      <td>venture</td>\n",
       "      <td>20-07-2011</td>\n",
       "      <td>5000000.0</td>\n",
       "      <td>TRACKING</td>\n",
       "      <td>Others</td>\n",
       "      <td>1</td>\n",
       "    </tr>\n",
       "  </tbody>\n",
       "</table>\n",
       "<p>8014 rows × 11 columns</p>\n",
       "</div>"
      ],
      "text/plain": [
       "                                  permalink                name     status  \\\n",
       "1249       /ORGANIZATION/22ND-CENTURY-GROUP  22nd Century Group        ipo   \n",
       "1254                  /ORGANIZATION/23ANDME             23andMe  operating   \n",
       "1255                  /ORGANIZATION/23ANDME             23andMe  operating   \n",
       "1257                  /ORGANIZATION/23ANDME             23andMe  operating   \n",
       "1259          /ORGANIZATION/3-V-BIOSCIENCES     3-V Biosciences  operating   \n",
       "...                                     ...                 ...        ...   \n",
       "44079                 /ORGANIZATION/THREDHQ             Thredhq  operating   \n",
       "44084  /ORGANIZATION/WIZROCKET-TECHNOLOGIES           CleverTap  operating   \n",
       "44088          /ORGANIZATION/USER-INTERFACE      User Interface  operating   \n",
       "44090                  /ORGANIZATION/WASHIO              Washio  operating   \n",
       "44094                   /ORGANIZATION/YAPTA               Yapta  operating   \n",
       "\n",
       "      country_code                          funding_round_permalink  \\\n",
       "1249           USA  /funding-round/50617d7ea8eaa838e2fd8eb8dfe06054   \n",
       "1254           USA  /funding-round/97062e0d50c2955cbe40bf8220d87b08   \n",
       "1255           USA  /funding-round/c27c1b420dfb34677a6ba449524f1c88   \n",
       "1257           USA  /funding-round/f261366b4fbf1840ad71b20ea0d9c7ce   \n",
       "1259           USA  /funding-round/069e2f1ded2f499d232c3d7ec762c0e2   \n",
       "...            ...                                              ...   \n",
       "44079          USA  /funding-round/54166cbfbb75fb604c17a94f2205570e   \n",
       "44084          USA  /funding-round/195738852853780cc8f1220ba6fb761d   \n",
       "44088          USA  /funding-round/ade267714c6ee533323f46a25b2db237   \n",
       "44090          USA  /funding-round/59026d26012c63b42fa2984c8f3c41ec   \n",
       "44094          USA  /funding-round/2bef2981d0db9747630882cc91e42ba5   \n",
       "\n",
       "      funding_round_type   funded_at  raised_amount_usd  \\\n",
       "1249             venture  18-09-2014         10000000.0   \n",
       "1254             venture  07-01-2011          9000000.0   \n",
       "1255             venture  18-06-2009         12600000.0   \n",
       "1257             venture  03-10-2007          9000000.0   \n",
       "1259             venture  17-03-2015         14278567.0   \n",
       "...                  ...         ...                ...   \n",
       "44079            venture  18-09-2013          5000000.0   \n",
       "44084            venture  03-08-2015          8000000.0   \n",
       "44088            venture  24-01-2001          8250000.0   \n",
       "44090            venture  09-06-2014         10500000.0   \n",
       "44094            venture  20-07-2011          5000000.0   \n",
       "\n",
       "                        sector                              main_sector  value  \n",
       "1249             BIOTECHNOLOGY               Cleantech / Semiconductors      1  \n",
       "1254             BIOTECHNOLOGY               Cleantech / Semiconductors      1  \n",
       "1255             BIOTECHNOLOGY               Cleantech / Semiconductors      1  \n",
       "1257             BIOTECHNOLOGY               Cleantech / Semiconductors      1  \n",
       "1259             BIOTECHNOLOGY               Cleantech / Semiconductors      1  \n",
       "...                        ...                                      ...    ...  \n",
       "44079  SOCIAL + MOBILE + LOCAL  Social, Finance, Analytics, Advertising      1  \n",
       "44084        CONSUMER BEHAVIOR  Social, Finance, Analytics, Advertising      1  \n",
       "44088           USER INTERFACE                                   Others      1  \n",
       "44090       SERVICE INDUSTRIES                                   Others      1  \n",
       "44094                 TRACKING                                   Others      1  \n",
       "\n",
       "[8014 rows x 11 columns]"
      ]
     },
     "execution_count": 95,
     "metadata": {},
     "output_type": "execute_result"
    }
   ],
   "source": [
    "master_data = D1[D1['main_sector'].isin([top_sector_D1, sec_sector_D1,th_sector_D1])]\n",
    "master_data"
   ]
  },
  {
   "cell_type": "code",
   "execution_count": 96,
   "metadata": {},
   "outputs": [
    {
     "data": {
      "text/html": [
       "<div>\n",
       "<style scoped>\n",
       "    .dataframe tbody tr th:only-of-type {\n",
       "        vertical-align: middle;\n",
       "    }\n",
       "\n",
       "    .dataframe tbody tr th {\n",
       "        vertical-align: top;\n",
       "    }\n",
       "\n",
       "    .dataframe thead th {\n",
       "        text-align: right;\n",
       "    }\n",
       "</style>\n",
       "<table border=\"1\" class=\"dataframe\">\n",
       "  <thead>\n",
       "    <tr style=\"text-align: right;\">\n",
       "      <th></th>\n",
       "      <th>permalink</th>\n",
       "      <th>name</th>\n",
       "      <th>status</th>\n",
       "      <th>country_code</th>\n",
       "      <th>funding_round_permalink</th>\n",
       "      <th>funding_round_type</th>\n",
       "      <th>funded_at</th>\n",
       "      <th>raised_amount_usd</th>\n",
       "      <th>sector</th>\n",
       "      <th>main_sector</th>\n",
       "      <th>value</th>\n",
       "    </tr>\n",
       "  </thead>\n",
       "  <tbody>\n",
       "    <tr>\n",
       "      <th>0</th>\n",
       "      <td>/ORGANIZATION/22ND-CENTURY-GROUP</td>\n",
       "      <td>22nd Century Group</td>\n",
       "      <td>ipo</td>\n",
       "      <td>USA</td>\n",
       "      <td>/funding-round/50617d7ea8eaa838e2fd8eb8dfe06054</td>\n",
       "      <td>venture</td>\n",
       "      <td>18-09-2014</td>\n",
       "      <td>10000000.0</td>\n",
       "      <td>BIOTECHNOLOGY</td>\n",
       "      <td>Cleantech / Semiconductors</td>\n",
       "      <td>1</td>\n",
       "    </tr>\n",
       "    <tr>\n",
       "      <th>1</th>\n",
       "      <td>/ORGANIZATION/23ANDME</td>\n",
       "      <td>23andMe</td>\n",
       "      <td>operating</td>\n",
       "      <td>USA</td>\n",
       "      <td>/funding-round/97062e0d50c2955cbe40bf8220d87b08</td>\n",
       "      <td>venture</td>\n",
       "      <td>07-01-2011</td>\n",
       "      <td>9000000.0</td>\n",
       "      <td>BIOTECHNOLOGY</td>\n",
       "      <td>Cleantech / Semiconductors</td>\n",
       "      <td>1</td>\n",
       "    </tr>\n",
       "    <tr>\n",
       "      <th>2</th>\n",
       "      <td>/ORGANIZATION/23ANDME</td>\n",
       "      <td>23andMe</td>\n",
       "      <td>operating</td>\n",
       "      <td>USA</td>\n",
       "      <td>/funding-round/c27c1b420dfb34677a6ba449524f1c88</td>\n",
       "      <td>venture</td>\n",
       "      <td>18-06-2009</td>\n",
       "      <td>12600000.0</td>\n",
       "      <td>BIOTECHNOLOGY</td>\n",
       "      <td>Cleantech / Semiconductors</td>\n",
       "      <td>1</td>\n",
       "    </tr>\n",
       "    <tr>\n",
       "      <th>3</th>\n",
       "      <td>/ORGANIZATION/23ANDME</td>\n",
       "      <td>23andMe</td>\n",
       "      <td>operating</td>\n",
       "      <td>USA</td>\n",
       "      <td>/funding-round/f261366b4fbf1840ad71b20ea0d9c7ce</td>\n",
       "      <td>venture</td>\n",
       "      <td>03-10-2007</td>\n",
       "      <td>9000000.0</td>\n",
       "      <td>BIOTECHNOLOGY</td>\n",
       "      <td>Cleantech / Semiconductors</td>\n",
       "      <td>1</td>\n",
       "    </tr>\n",
       "    <tr>\n",
       "      <th>4</th>\n",
       "      <td>/ORGANIZATION/3-V-BIOSCIENCES</td>\n",
       "      <td>3-V Biosciences</td>\n",
       "      <td>operating</td>\n",
       "      <td>USA</td>\n",
       "      <td>/funding-round/069e2f1ded2f499d232c3d7ec762c0e2</td>\n",
       "      <td>venture</td>\n",
       "      <td>17-03-2015</td>\n",
       "      <td>14278567.0</td>\n",
       "      <td>BIOTECHNOLOGY</td>\n",
       "      <td>Cleantech / Semiconductors</td>\n",
       "      <td>1</td>\n",
       "    </tr>\n",
       "    <tr>\n",
       "      <th>...</th>\n",
       "      <td>...</td>\n",
       "      <td>...</td>\n",
       "      <td>...</td>\n",
       "      <td>...</td>\n",
       "      <td>...</td>\n",
       "      <td>...</td>\n",
       "      <td>...</td>\n",
       "      <td>...</td>\n",
       "      <td>...</td>\n",
       "      <td>...</td>\n",
       "      <td>...</td>\n",
       "    </tr>\n",
       "    <tr>\n",
       "      <th>8419</th>\n",
       "      <td>/ORGANIZATION/LOST-MY-NAME</td>\n",
       "      <td>Lost My Name</td>\n",
       "      <td>operating</td>\n",
       "      <td>GBR</td>\n",
       "      <td>/funding-round/f40170cca8f612ead56ede1b34c480d2</td>\n",
       "      <td>venture</td>\n",
       "      <td>25-06-2015</td>\n",
       "      <td>9000000.0</td>\n",
       "      <td>KIDS</td>\n",
       "      <td>Others</td>\n",
       "      <td>1</td>\n",
       "    </tr>\n",
       "    <tr>\n",
       "      <th>8420</th>\n",
       "      <td>/ORGANIZATION/ZOOPLA</td>\n",
       "      <td>Zoopla</td>\n",
       "      <td>ipo</td>\n",
       "      <td>GBR</td>\n",
       "      <td>/funding-round/0ec759962079a8997eb1632d6c1a769b</td>\n",
       "      <td>venture</td>\n",
       "      <td>23-12-2010</td>\n",
       "      <td>5005659.0</td>\n",
       "      <td>PROPERTY MANAGEMENT</td>\n",
       "      <td>Social, Finance, Analytics, Advertising</td>\n",
       "      <td>1</td>\n",
       "    </tr>\n",
       "    <tr>\n",
       "      <th>8421</th>\n",
       "      <td>/ORGANIZATION/ZOOPLA</td>\n",
       "      <td>Zoopla</td>\n",
       "      <td>ipo</td>\n",
       "      <td>GBR</td>\n",
       "      <td>/funding-round/98da1f441a55c9a9629a256828923e38</td>\n",
       "      <td>venture</td>\n",
       "      <td>19-01-2009</td>\n",
       "      <td>5440000.0</td>\n",
       "      <td>PROPERTY MANAGEMENT</td>\n",
       "      <td>Social, Finance, Analytics, Advertising</td>\n",
       "      <td>1</td>\n",
       "    </tr>\n",
       "    <tr>\n",
       "      <th>8422</th>\n",
       "      <td>/ORGANIZATION/YOYO</td>\n",
       "      <td>Yoyo Wallet</td>\n",
       "      <td>operating</td>\n",
       "      <td>GBR</td>\n",
       "      <td>/funding-round/b18a6d85f32d12ace2366c0b7f85facc</td>\n",
       "      <td>venture</td>\n",
       "      <td>15-04-2015</td>\n",
       "      <td>10000000.0</td>\n",
       "      <td>LOYALTY PROGRAMS</td>\n",
       "      <td>Others</td>\n",
       "      <td>1</td>\n",
       "    </tr>\n",
       "    <tr>\n",
       "      <th>8423</th>\n",
       "      <td>/ORGANIZATION/VECTOR-WATCH</td>\n",
       "      <td>Vector Watch</td>\n",
       "      <td>operating</td>\n",
       "      <td>GBR</td>\n",
       "      <td>/funding-round/b010e14f723a45d5c8fadb5a857c620b</td>\n",
       "      <td>venture</td>\n",
       "      <td>25-11-2015</td>\n",
       "      <td>5000000.0</td>\n",
       "      <td>WATCH</td>\n",
       "      <td>Others</td>\n",
       "      <td>1</td>\n",
       "    </tr>\n",
       "  </tbody>\n",
       "</table>\n",
       "<p>8424 rows × 11 columns</p>\n",
       "</div>"
      ],
      "text/plain": [
       "                             permalink                name     status  \\\n",
       "0     /ORGANIZATION/22ND-CENTURY-GROUP  22nd Century Group        ipo   \n",
       "1                /ORGANIZATION/23ANDME             23andMe  operating   \n",
       "2                /ORGANIZATION/23ANDME             23andMe  operating   \n",
       "3                /ORGANIZATION/23ANDME             23andMe  operating   \n",
       "4        /ORGANIZATION/3-V-BIOSCIENCES     3-V Biosciences  operating   \n",
       "...                                ...                 ...        ...   \n",
       "8419        /ORGANIZATION/LOST-MY-NAME        Lost My Name  operating   \n",
       "8420              /ORGANIZATION/ZOOPLA              Zoopla        ipo   \n",
       "8421              /ORGANIZATION/ZOOPLA              Zoopla        ipo   \n",
       "8422                /ORGANIZATION/YOYO         Yoyo Wallet  operating   \n",
       "8423        /ORGANIZATION/VECTOR-WATCH        Vector Watch  operating   \n",
       "\n",
       "     country_code                          funding_round_permalink  \\\n",
       "0             USA  /funding-round/50617d7ea8eaa838e2fd8eb8dfe06054   \n",
       "1             USA  /funding-round/97062e0d50c2955cbe40bf8220d87b08   \n",
       "2             USA  /funding-round/c27c1b420dfb34677a6ba449524f1c88   \n",
       "3             USA  /funding-round/f261366b4fbf1840ad71b20ea0d9c7ce   \n",
       "4             USA  /funding-round/069e2f1ded2f499d232c3d7ec762c0e2   \n",
       "...           ...                                              ...   \n",
       "8419          GBR  /funding-round/f40170cca8f612ead56ede1b34c480d2   \n",
       "8420          GBR  /funding-round/0ec759962079a8997eb1632d6c1a769b   \n",
       "8421          GBR  /funding-round/98da1f441a55c9a9629a256828923e38   \n",
       "8422          GBR  /funding-round/b18a6d85f32d12ace2366c0b7f85facc   \n",
       "8423          GBR  /funding-round/b010e14f723a45d5c8fadb5a857c620b   \n",
       "\n",
       "     funding_round_type   funded_at  raised_amount_usd               sector  \\\n",
       "0               venture  18-09-2014         10000000.0        BIOTECHNOLOGY   \n",
       "1               venture  07-01-2011          9000000.0        BIOTECHNOLOGY   \n",
       "2               venture  18-06-2009         12600000.0        BIOTECHNOLOGY   \n",
       "3               venture  03-10-2007          9000000.0        BIOTECHNOLOGY   \n",
       "4               venture  17-03-2015         14278567.0        BIOTECHNOLOGY   \n",
       "...                 ...         ...                ...                  ...   \n",
       "8419            venture  25-06-2015          9000000.0                 KIDS   \n",
       "8420            venture  23-12-2010          5005659.0  PROPERTY MANAGEMENT   \n",
       "8421            venture  19-01-2009          5440000.0  PROPERTY MANAGEMENT   \n",
       "8422            venture  15-04-2015         10000000.0     LOYALTY PROGRAMS   \n",
       "8423            venture  25-11-2015          5000000.0                WATCH   \n",
       "\n",
       "                                  main_sector  value  \n",
       "0                  Cleantech / Semiconductors      1  \n",
       "1                  Cleantech / Semiconductors      1  \n",
       "2                  Cleantech / Semiconductors      1  \n",
       "3                  Cleantech / Semiconductors      1  \n",
       "4                  Cleantech / Semiconductors      1  \n",
       "...                                       ...    ...  \n",
       "8419                                   Others      1  \n",
       "8420  Social, Finance, Analytics, Advertising      1  \n",
       "8421  Social, Finance, Analytics, Advertising      1  \n",
       "8422                                   Others      1  \n",
       "8423                                   Others      1  \n",
       "\n",
       "[8424 rows x 11 columns]"
      ]
     },
     "execution_count": 96,
     "metadata": {},
     "output_type": "execute_result"
    }
   ],
   "source": [
    "master_data=master_data.append(D2[D2['main_sector'].isin([top_sector_D2, sec_sector_D2,th_sector_D2])], ignore_index=True)\n",
    "master_data"
   ]
  },
  {
   "cell_type": "code",
   "execution_count": 97,
   "metadata": {
    "scrolled": true
   },
   "outputs": [
    {
     "data": {
      "text/html": [
       "<div>\n",
       "<style scoped>\n",
       "    .dataframe tbody tr th:only-of-type {\n",
       "        vertical-align: middle;\n",
       "    }\n",
       "\n",
       "    .dataframe tbody tr th {\n",
       "        vertical-align: top;\n",
       "    }\n",
       "\n",
       "    .dataframe thead th {\n",
       "        text-align: right;\n",
       "    }\n",
       "</style>\n",
       "<table border=\"1\" class=\"dataframe\">\n",
       "  <thead>\n",
       "    <tr style=\"text-align: right;\">\n",
       "      <th></th>\n",
       "      <th>permalink</th>\n",
       "      <th>name</th>\n",
       "      <th>status</th>\n",
       "      <th>country_code</th>\n",
       "      <th>funding_round_permalink</th>\n",
       "      <th>funding_round_type</th>\n",
       "      <th>funded_at</th>\n",
       "      <th>raised_amount_usd</th>\n",
       "      <th>sector</th>\n",
       "      <th>main_sector</th>\n",
       "      <th>value</th>\n",
       "    </tr>\n",
       "  </thead>\n",
       "  <tbody>\n",
       "    <tr>\n",
       "      <th>0</th>\n",
       "      <td>/ORGANIZATION/22ND-CENTURY-GROUP</td>\n",
       "      <td>22nd Century Group</td>\n",
       "      <td>ipo</td>\n",
       "      <td>USA</td>\n",
       "      <td>/funding-round/50617d7ea8eaa838e2fd8eb8dfe06054</td>\n",
       "      <td>venture</td>\n",
       "      <td>18-09-2014</td>\n",
       "      <td>10000000.0</td>\n",
       "      <td>BIOTECHNOLOGY</td>\n",
       "      <td>Cleantech / Semiconductors</td>\n",
       "      <td>1</td>\n",
       "    </tr>\n",
       "    <tr>\n",
       "      <th>1</th>\n",
       "      <td>/ORGANIZATION/23ANDME</td>\n",
       "      <td>23andMe</td>\n",
       "      <td>operating</td>\n",
       "      <td>USA</td>\n",
       "      <td>/funding-round/97062e0d50c2955cbe40bf8220d87b08</td>\n",
       "      <td>venture</td>\n",
       "      <td>07-01-2011</td>\n",
       "      <td>9000000.0</td>\n",
       "      <td>BIOTECHNOLOGY</td>\n",
       "      <td>Cleantech / Semiconductors</td>\n",
       "      <td>1</td>\n",
       "    </tr>\n",
       "    <tr>\n",
       "      <th>2</th>\n",
       "      <td>/ORGANIZATION/23ANDME</td>\n",
       "      <td>23andMe</td>\n",
       "      <td>operating</td>\n",
       "      <td>USA</td>\n",
       "      <td>/funding-round/c27c1b420dfb34677a6ba449524f1c88</td>\n",
       "      <td>venture</td>\n",
       "      <td>18-06-2009</td>\n",
       "      <td>12600000.0</td>\n",
       "      <td>BIOTECHNOLOGY</td>\n",
       "      <td>Cleantech / Semiconductors</td>\n",
       "      <td>1</td>\n",
       "    </tr>\n",
       "    <tr>\n",
       "      <th>3</th>\n",
       "      <td>/ORGANIZATION/23ANDME</td>\n",
       "      <td>23andMe</td>\n",
       "      <td>operating</td>\n",
       "      <td>USA</td>\n",
       "      <td>/funding-round/f261366b4fbf1840ad71b20ea0d9c7ce</td>\n",
       "      <td>venture</td>\n",
       "      <td>03-10-2007</td>\n",
       "      <td>9000000.0</td>\n",
       "      <td>BIOTECHNOLOGY</td>\n",
       "      <td>Cleantech / Semiconductors</td>\n",
       "      <td>1</td>\n",
       "    </tr>\n",
       "    <tr>\n",
       "      <th>4</th>\n",
       "      <td>/ORGANIZATION/3-V-BIOSCIENCES</td>\n",
       "      <td>3-V Biosciences</td>\n",
       "      <td>operating</td>\n",
       "      <td>USA</td>\n",
       "      <td>/funding-round/069e2f1ded2f499d232c3d7ec762c0e2</td>\n",
       "      <td>venture</td>\n",
       "      <td>17-03-2015</td>\n",
       "      <td>14278567.0</td>\n",
       "      <td>BIOTECHNOLOGY</td>\n",
       "      <td>Cleantech / Semiconductors</td>\n",
       "      <td>1</td>\n",
       "    </tr>\n",
       "  </tbody>\n",
       "</table>\n",
       "</div>"
      ],
      "text/plain": [
       "                          permalink                name     status  \\\n",
       "0  /ORGANIZATION/22ND-CENTURY-GROUP  22nd Century Group        ipo   \n",
       "1             /ORGANIZATION/23ANDME             23andMe  operating   \n",
       "2             /ORGANIZATION/23ANDME             23andMe  operating   \n",
       "3             /ORGANIZATION/23ANDME             23andMe  operating   \n",
       "4     /ORGANIZATION/3-V-BIOSCIENCES     3-V Biosciences  operating   \n",
       "\n",
       "  country_code                          funding_round_permalink  \\\n",
       "0          USA  /funding-round/50617d7ea8eaa838e2fd8eb8dfe06054   \n",
       "1          USA  /funding-round/97062e0d50c2955cbe40bf8220d87b08   \n",
       "2          USA  /funding-round/c27c1b420dfb34677a6ba449524f1c88   \n",
       "3          USA  /funding-round/f261366b4fbf1840ad71b20ea0d9c7ce   \n",
       "4          USA  /funding-round/069e2f1ded2f499d232c3d7ec762c0e2   \n",
       "\n",
       "  funding_round_type   funded_at  raised_amount_usd         sector  \\\n",
       "0            venture  18-09-2014         10000000.0  BIOTECHNOLOGY   \n",
       "1            venture  07-01-2011          9000000.0  BIOTECHNOLOGY   \n",
       "2            venture  18-06-2009         12600000.0  BIOTECHNOLOGY   \n",
       "3            venture  03-10-2007          9000000.0  BIOTECHNOLOGY   \n",
       "4            venture  17-03-2015         14278567.0  BIOTECHNOLOGY   \n",
       "\n",
       "                  main_sector  value  \n",
       "0  Cleantech / Semiconductors      1  \n",
       "1  Cleantech / Semiconductors      1  \n",
       "2  Cleantech / Semiconductors      1  \n",
       "3  Cleantech / Semiconductors      1  \n",
       "4  Cleantech / Semiconductors      1  "
      ]
     },
     "execution_count": 97,
     "metadata": {},
     "output_type": "execute_result"
    }
   ],
   "source": [
    "master_data=master_data.append(D3[D3['main_sector'].isin([top_sector_D3, sec_sector_D3,th_sector_D3])], ignore_index=True)\n",
    "master_data.head()"
   ]
  },
  {
   "cell_type": "code",
   "execution_count": 98,
   "metadata": {},
   "outputs": [
    {
     "data": {
      "image/png": "[encoded data removed]",
      "text/plain": [
       "<Figure size 864x576 with 1 Axes>"
      ]
     },
     "metadata": {},
     "output_type": "display_data"
    }
   ],
   "source": [
    "# set figure size for larger figure\n",
    "plt.figure(num=None, figsize=(12, 8), facecolor='w', edgecolor='k')\n",
    "\n",
    "# specify hue=\"categorical_variable\"\n",
    "s=sns.barplot(x='country_code', y='raised_amount_usd', hue=\"main_sector\", data=master_data,estimator=lambda x: len(x))\n",
    "s.set(xlabel='Country Name', ylabel='No. of Investments')\n",
    "s.set_title('Investments in top3 sectors of top 3 countries',fontsize =20)\n",
    "plt.show()"
   ]
  }
 ],
 "metadata": {
  "kernelspec": {
   "display_name": "Python 3",
   "language": "python",
   "name": "python3"
  },
  "language_info": {
   "codemirror_mode": {
    "name": "ipython",
    "version": 3
   },
   "file_extension": ".py",
   "mimetype": "text/x-python",
   "name": "python",
   "nbconvert_exporter": "python",
   "pygments_lexer": "ipython3",
   "version": "3.7.10"
  }
 },
 "nbformat": 4,
 "nbformat_minor": 4
}
